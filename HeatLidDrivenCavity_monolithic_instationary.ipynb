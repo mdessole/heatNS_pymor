{
 "cells": [
  {
   "cell_type": "markdown",
   "metadata": {},
   "source": [
    "# Solving incompressible heat flow in a cavity"
   ]
  },
  {
   "cell_type": "markdown",
   "metadata": {},
   "source": [
    "Let us consider the Stokes equations for the velocity $\\mathbf{u}$ and the pressure $p$ of an incompressible fluid\n",
    "\n",
    "\\begin{align*} \n",
    "    \\nabla \\cdot \\mathbf{u} &= 0,  \\\\\n",
    "     \\partial_t \\mathbf{u} + \\left( \\mathbf{u}\\cdot\\nabla \\right)\\mathbf{u} + \\nabla p - 2\\mu \\nabla \\cdot \\mathbf{D}(\\mathbf{u}) &= 0,\n",
    "\\end{align*}\n",
    "\n",
    "where  $\\mathbf{D}(\\mathbf{u}) = \\mathrm{sym}(\\mathbf{u}) = \\frac{1}{2}\\left(\\nabla \\mathbf{u} +  \\left( \\nabla \\mathbf{u} \\right)^{\\mathrm{T}} \\right)$ is the Newtonian fluid's rate of strain tensor and $\\mu$ is the viscosity. \n",
    "\n",
    "Moreover, consider a convection-diffusion equation that governs the evolution of the temperature field\n",
    "\\begin{align*} \n",
    "    \\partial_t T +\\mathbf{u}\\cdot\\nabla T - \\kappa \\Delta T &= 0,\n",
    "\\end{align*}\n",
    "where $\\kappa$ is the constant thermal condictivity. \n",
    "\n",
    "The space domain is $\\Omega = [0,L] \\times [0,1]$, $L > 0$, and the space variable is $\\mathbf{x}= \\begin{pmatrix} x_0 \\\\ x_1 \\end{pmatrix}$. Time domain is $[0,T]$, with $T>0$.\n",
    "\n",
    "Boundary conditions for the velocity are \n",
    "\\begin{align*} \n",
    "    \\mathbf{u}(t,x_0,1) &= \\begin{pmatrix} 1 \\\\ 0 \\end{pmatrix}, &&  0 \\leq x_0 \\leq L \\\\\n",
    "    \\mathbf{u}(t,x_0,x_1) &= \\begin{pmatrix} 0 \\\\ 0 \\end{pmatrix} && \\text{elsewhere on } \\partial \\Omega,\n",
    "\\end{align*}\n",
    "and for the temperature field we set\n",
    "\\begin{align*} \n",
    "    T(t,0,x_1) &= T_h, && 0 \\leq x_1 \\leq 1, \\\\\n",
    "    T(t,L,x_1) &= T_c, && 0 \\leq x_1 \\leq 1, \\\\\n",
    "\\end{align*}\n",
    "for all $t \\in [0,T]$.\n",
    "Initial conditions are\n",
    "\\begin{align*} \n",
    "    \\mathbf{u}(0,\\mathbf{x}) &= \\begin{pmatrix} 0 \\\\ 0 \\end{pmatrix}, \\\\\n",
    "    T(0,\\mathbf{x}) &= T_i.\n",
    "\\end{align*}\n"
   ]
  },
  {
   "cell_type": "markdown",
   "metadata": {},
   "source": [
    "## Python packages"
   ]
  },
  {
   "cell_type": "markdown",
   "metadata": {},
   "source": [
    "Import the Python packages for use in this notebook."
   ]
  },
  {
   "cell_type": "markdown",
   "metadata": {},
   "source": [
    "We need the finite element method library FEniCS."
   ]
  },
  {
   "cell_type": "code",
   "execution_count": 1,
   "metadata": {},
   "outputs": [],
   "source": [
    "import fenics"
   ]
  },
  {
   "cell_type": "code",
   "execution_count": 2,
   "metadata": {},
   "outputs": [
    {
     "data": {
      "text/plain": [
       "'2019.2.0.dev0'"
      ]
     },
     "execution_count": 2,
     "metadata": {},
     "output_type": "execute_result"
    }
   ],
   "source": [
    "import dolfin\n",
    "dolfin.__version__"
   ]
  },
  {
   "cell_type": "code",
   "execution_count": 3,
   "metadata": {},
   "outputs": [
    {
     "data": {
      "text/plain": [
       "'2019.2.0.dev0'"
      ]
     },
     "execution_count": 3,
     "metadata": {},
     "output_type": "execute_result"
    }
   ],
   "source": [
    "import ufl\n",
    "ufl.__version__"
   ]
  },
  {
   "cell_type": "code",
   "execution_count": 4,
   "metadata": {},
   "outputs": [
    {
     "data": {
      "text/plain": [
       "'2020.2.2'"
      ]
     },
     "execution_count": 4,
     "metadata": {},
     "output_type": "execute_result"
    }
   ],
   "source": [
    "import pymor\n",
    "pymor.__version__"
   ]
  },
  {
   "cell_type": "markdown",
   "metadata": {},
   "source": [
    "FEniCS has convenient plotting features that don't require us to import `matplotlib`; but using `matplotlib` directly will allow us to annotate the plots."
   ]
  },
  {
   "cell_type": "code",
   "execution_count": 5,
   "metadata": {},
   "outputs": [],
   "source": [
    "import numpy as np\n",
    "import matplotlib.pyplot as plt\n",
    "%matplotlib inline"
   ]
  },
  {
   "cell_type": "markdown",
   "metadata": {},
   "source": [
    "## Benchmark parameters"
   ]
  },
  {
   "cell_type": "markdown",
   "metadata": {},
   "source": [
    "Set constant Reynolds number and conductivity coefficient Kappa. For each we define a `fenics.Constant` for use in the variational form so that FEniCS can more efficiently compile the finite element code."
   ]
  },
  {
   "cell_type": "code",
   "execution_count": 6,
   "metadata": {},
   "outputs": [],
   "source": [
    "#dynamic_viscosity = 10.\n",
    "Re = fenics.Constant(500)\n",
    "#mu = fenics.Constant(dynamic_viscosity)\n",
    "prandtl_number = 0.71\n",
    "#Pr = fenics.Constant(prandtl_number)\n",
    "kappa = fenics.Constant(1./0.71)"
   ]
  },
  {
   "cell_type": "markdown",
   "metadata": {},
   "source": [
    "Furthermore the benchmark problem involves hot and cold walls with constant temperatures $T_h$ and $T_c$, respectively, and the initial temperature $T_i$ of the domain."
   ]
  },
  {
   "cell_type": "code",
   "execution_count": 7,
   "metadata": {},
   "outputs": [],
   "source": [
    "hot_wall_temperature = 0.5\n",
    "T_h = fenics.Constant(hot_wall_temperature)\n",
    "cold_wall_temperature = -0.5\n",
    "T_c = fenics.Constant(cold_wall_temperature)\n",
    "initial_temperature = 0.0\n",
    "T_i = fenics.Constant(initial_temperature)"
   ]
  },
  {
   "cell_type": "markdown",
   "metadata": {},
   "source": [
    "## Structured mesh definition\n",
    "Now, define a structured mesh on the rectangle with bottom left corner $(0,0)$ and top right corner $(\\bar{x},\\bar{y}) = (L,1)$ and ratio $(\\bar{x} - 0)/(\\bar{y} - 0) = L$."
   ]
  },
  {
   "cell_type": "code",
   "execution_count": 8,
   "metadata": {},
   "outputs": [],
   "source": [
    "L = 1.2"
   ]
  },
  {
   "cell_type": "code",
   "execution_count": 9,
   "metadata": {},
   "outputs": [],
   "source": [
    "if 0:\n",
    "    N = 8\n",
    "    mesh = fenics.UnitSquareMesh(N, N)\n",
    "    ratio = 1.0\n",
    "elif 1:\n",
    "    ny = 10\n",
    "    nx = int(ny*L)#1.0/ratio)\n",
    "    mesh = fenics.RectangleMesh(fenics.Point(0, 0), \n",
    "                                fenics.Point(L, 1.0), nx, ny, \"right/left\")\n",
    "else: \n",
    "    #unstructured mesh, mshr module needed\n",
    "    domain = mshr.Rectangle(fenics.Point(0, 0), fenics.Point(L,1.0))\n",
    "    mesh = mshr.generate_mesh(domain, 8)"
   ]
  },
  {
   "cell_type": "code",
   "execution_count": 10,
   "metadata": {},
   "outputs": [
    {
     "data": {
      "image/png": "[encoded data removed]",
      "text/plain": [
       "<Figure size 432x288 with 1 Axes>"
      ]
     },
     "metadata": {
      "needs_background": "light"
     },
     "output_type": "display_data"
    }
   ],
   "source": [
    "fenics.plot(mesh)\n",
    "plt.title(\"Mesh\")\n",
    "plt.xlabel(\"$x$\")\n",
    "plt.ylabel(\"$y$\")\n",
    "plt.show()"
   ]
  },
  {
   "cell_type": "code",
   "execution_count": 11,
   "metadata": {},
   "outputs": [
    {
     "data": {
      "text/plain": [
       "0.1"
      ]
     },
     "execution_count": 11,
     "metadata": {},
     "output_type": "execute_result"
    }
   ],
   "source": [
    "hy = 1./ny\n",
    "hy"
   ]
  },
  {
   "cell_type": "markdown",
   "metadata": {},
   "source": [
    "## Mixed finite element function space, test functions, and solution functions"
   ]
  },
  {
   "cell_type": "markdown",
   "metadata": {},
   "source": [
    "Make the mixed finite element. We choose pressure and velocity subspaces analagous to the Taylor-Hood (i.e. P2P1) mixed element [1], but we extend this further with a P1 element for the temperature."
   ]
  },
  {
   "cell_type": "code",
   "execution_count": 12,
   "metadata": {},
   "outputs": [],
   "source": [
    "P1 = fenics.FiniteElement('P', mesh.ufl_cell(), 1)\n",
    "P2 = fenics.VectorElement('P', mesh.ufl_cell(), 2)\n",
    "\n",
    "#P2 = fenics.VectorFunctionSpace(mesh, 'P', 2)\n",
    "#P1 = fenics.FunctionSpace(mesh, 'P', 1)\n",
    "\n",
    "mixed_element = fenics.MixedElement([P1, P2,P1])"
   ]
  },
  {
   "cell_type": "markdown",
   "metadata": {},
   "source": [
    "|Note|\n",
    "|----|\n",
    "|`fenics.FiniteElement` requires the `mesh.ufl_cell()` argument to determine some aspects of the domain (e.g. that the spatial domain is two-dimensional).|"
   ]
  },
  {
   "cell_type": "markdown",
   "metadata": {},
   "source": [
    "Make the mixed finite element function space $\\mathbf{W}$, which enumerates the mixed element basis functions for pressure, velocity and temperature on each cell of the mesh."
   ]
  },
  {
   "cell_type": "code",
   "execution_count": 13,
   "metadata": {},
   "outputs": [],
   "source": [
    "W = fenics.FunctionSpace(mesh, mixed_element)"
   ]
  },
  {
   "cell_type": "markdown",
   "metadata": {},
   "source": [
    "Make the test functions $\\psi_p,\\boldsymbol{\\psi}_u, \\psi_T \\in \\mathbf{W}$."
   ]
  },
  {
   "cell_type": "code",
   "execution_count": 14,
   "metadata": {},
   "outputs": [],
   "source": [
    "# TestFunctions\n",
    "psi_p, psi_u, psi_T = fenics.TestFunctions(W)"
   ]
  },
  {
   "cell_type": "code",
   "execution_count": 15,
   "metadata": {},
   "outputs": [
    {
     "data": {
      "text/plain": [
       "(ufl.indexed.Indexed, ufl.tensors.ListTensor, ufl.indexed.Indexed)"
      ]
     },
     "execution_count": 15,
     "metadata": {},
     "output_type": "execute_result"
    }
   ],
   "source": [
    "type(psi_p), type(psi_u), type(psi_T)"
   ]
  },
  {
   "cell_type": "markdown",
   "metadata": {},
   "source": [
    "Make the Heat-Navier-Stokes system solution function $\\mathbf{w} \\in \\mathbf{W}$ and obtain references to its components $p$, $\\mathbf{u}, T$."
   ]
  },
  {
   "cell_type": "code",
   "execution_count": 16,
   "metadata": {},
   "outputs": [],
   "source": [
    "#solution functions\n",
    "w = fenics.Function(W)\n",
    "p, u, T = fenics.split(w)\n",
    "\n",
    "#test functions\n",
    "w_n = fenics.Function(W)\n",
    "p_n, u_n, T_n = fenics.split(w_n)"
   ]
  },
  {
   "cell_type": "markdown",
   "metadata": {},
   "source": [
    "## Time discretization\n",
    "\n",
    "We are solving an initial value problem. We will prescribe the initial values, and then take discrete steps forward in time which solve the governing equations. For this we consider the initial values\n",
    "\n",
    "\\begin{align*}\n",
    "    p^0  = 0,  \\\\\n",
    "    \\mathbf{u}^0 = \\begin{pmatrix} 0 \\\\ 0 \\end{pmatrix}, \\\\\n",
    "\\end{align*}\n",
    "and\n",
    "\\begin{align*}\n",
    "    T^0  = T_h + x_0(T_c - T_h)\\quad \\text{ or } \\quad T^0 = T_i.\n",
    "\\end{align*}"
   ]
  },
  {
   "cell_type": "code",
   "execution_count": 17,
   "metadata": {},
   "outputs": [],
   "source": [
    "def initial_condition(constant = True):\n",
    "    if (constant):\n",
    "        w_n = fenics.interpolate(fenics.Expression((\"0.\", \"0.\", \"0.\",\"T_i\" ), \n",
    "                                 T_i = initial_temperature,element = mixed_element),W)\n",
    "    else:\n",
    "        w_n = fenics.interpolate(fenics.Expression((\"0.\", \"0.\", \"0.\",\n",
    "                                                    \"T_h + x[0]*(T_c - T_h)\" ),\n",
    "                                                   T_h = hot_wall_temperature,\n",
    "                                                   T_c = cold_wall_temperature,\n",
    "                                                   T_i = initial_temperature,\n",
    "                                                   element = mixed_element),W)\n",
    "    #end    \n",
    "     \n",
    "    #endif\n",
    "    return w_n"
   ]
  },
  {
   "cell_type": "code",
   "execution_count": 18,
   "metadata": {},
   "outputs": [],
   "source": [
    "w_n = initial_condition(constant = True)\n",
    "p_n, u_n, T_n = fenics.split(w_n)"
   ]
  },
  {
   "cell_type": "code",
   "execution_count": 19,
   "metadata": {},
   "outputs": [
    {
     "data": {
      "text/plain": [
       "Text(0, 0.5, '$y$')"
      ]
     },
     "execution_count": 19,
     "metadata": {},
     "output_type": "execute_result"
    },
    {
     "data": {
      "image/png": "[encoded data removed]",
      "text/plain": [
       "<Figure size 432x288 with 2 Axes>"
      ]
     },
     "metadata": {
      "needs_background": "light"
     },
     "output_type": "display_data"
    }
   ],
   "source": [
    "fig = fenics.plot(T_n)\n",
    "plt.colorbar(fig)\n",
    "plt.title(\"$T^0$\")\n",
    "plt.xlabel(\"$x$\")\n",
    "plt.ylabel(\"$y$\")"
   ]
  },
  {
   "cell_type": "markdown",
   "metadata": {},
   "source": [
    "For the time derivative terms $\\mathbf{u}_t$ and $T_t$, we apply the first-order implicit Euler finite difference time discretization, i.e.\n",
    "\n",
    "\\begin{align*}\n",
    "    \\mathbf{u}_t = \\frac{\\mathbf{u}^{n+1} - \\mathbf{u}^n}{\\Delta t} \\\\\n",
    "    T_t = \\frac{T^{n+1} - T^n}{\\Delta t}\n",
    "\\end{align*}\n",
    "\n",
    "And we get a fully coupled (monolithic) system at each time step\n",
    "\n",
    "\\begin{align*} \n",
    "    \\nabla \\cdot \\mathbf{u}^{n+1} &= 0  \\\\\n",
    "    \\frac{1}{\\Delta t} \\mathbf{u}^{n+1}  + \\left( \\mathbf{u}^{n+1}\\cdot\\nabla \\right)\\mathbf{u}^{n+1} + \\nabla p - \\mu \\Delta \\mathbf{u}^{n+1} &= \\frac{1}{\\Delta t} \\mathbf{u}^n  \\\\\n",
    "    \\frac{1}{\\Delta t}T^{n+1}  + \\mathbf{u}^{n+1}\\cdot\\nabla T^{n+1} - \\kappa \\Delta T^{n+1} &= \\frac{1}{\\Delta t}T^{n}\n",
    "\\end{align*}\n",
    "\n",
    "|Note|\n",
    "|----|\n",
    "|For our implementation, we will use the shorthand $\\mathbf{w} = \\mathbf{w}^{n+1}= \\begin{pmatrix} p^{n+1} \\\\ \\mathbf{u}^{n+1} \\\\ T^{n+1}\\end{pmatrix}$. |\n",
    "\n",
    "Choose a time step size $\\Delta t$and set the time derivative terms."
   ]
  },
  {
   "cell_type": "code",
   "execution_count": 20,
   "metadata": {},
   "outputs": [],
   "source": [
    "timestep_size = 0.001\n",
    "dt = fenics.Constant(timestep_size)\n",
    "u_t = (u - u_n)/dt\n",
    "T_t = (T - T_n)/dt"
   ]
  },
  {
   "cell_type": "markdown",
   "metadata": {},
   "source": [
    "## Nonlinear variational form"
   ]
  },
  {
   "cell_type": "markdown",
   "metadata": {},
   "source": [
    "Multiply equations by suitable test funcions $\\psi_p, \\boldsymbol{\\psi}_u, \\psi_T$ and integrate over the domain. We obtain\n",
    "\n",
    "\\begin{align*} \n",
    "    ({\\psi}_p, \\nabla \\cdot \\mathbf{u}^{n+1}) &= 0  \\\\\n",
    "    \\frac{1}{\\Delta t}(\\boldsymbol{\\psi}_u, \\mathbf{u}^{n+1}) + \\left( \\boldsymbol{\\psi}_u,  ( \\mathbf{u}^{n+1}\\cdot\\nabla) \\mathbf{u}^{n+1} \\right) -(p^{n+1}, \\nabla \\cdot \\boldsymbol{\\psi}_u) + \\mu (\\nabla \\mathbf{u}^{n+1}, \\nabla \\boldsymbol{\\psi}_u) -  \\frac{1}{\\Delta t}(\\boldsymbol{\\psi}_u, \\mathbf{u}^{n}) &=0,\\\\\n",
    "       \\frac{1}{\\Delta t} ({\\psi}_T ,{T^{n+1}})  - (\\mathbf{u}^{n+1}\\cdot\\nabla \\psi_T, T^{n+1}) + \\kappa(\\nabla T^{n+1}, \\nabla \\psi_T) - \\frac{1}{\\Delta t} ({\\psi}_T ,{T^{n}}) &= 0,\n",
    "\\end{align*}\n",
    "where\n",
    "\\begin{align*}\n",
    "b( \\mathbf{u},\\mathbf{v},\\boldsymbol{\\psi}_u) &= \\left( ( \\mathbf{u}\\cdot\\nabla) \\mathbf{v}, \\boldsymbol{\\psi}_u \\right).\n",
    "\\end{align*}\n",
    "\n",
    "We can write the nonlinear system of equations as\n",
    "\n",
    "\\begin{equation*}\n",
    "\\mathbf{F}(\\mathbf{w}) = \\mathbf{0}.\n",
    "\\end{equation*}\n"
   ]
  },
  {
   "cell_type": "code",
   "execution_count": 21,
   "metadata": {},
   "outputs": [],
   "source": [
    "inner, dot, grad, div, sym = \\\n",
    "    fenics.inner, fenics.dot, fenics.grad, fenics.div, fenics.sym\n",
    "    \n",
    "mass = -psi_p*div(u)\n",
    "\n",
    "momentum = dot(psi_u, u_t + dot(grad(u), u)) - div(psi_u)*p \\\n",
    "    + 2.*(1./Re)*inner(sym(grad(psi_u)), sym(grad(u)))\n",
    "\n",
    "energy = psi_T*T_t + dot(grad(psi_T), kappa*grad(T) - T*u)\n",
    "\n",
    "F = (mass + momentum + energy )*fenics.dx"
   ]
  },
  {
   "cell_type": "code",
   "execution_count": 22,
   "metadata": {},
   "outputs": [],
   "source": [
    "# stationary part of the variational form\n",
    "F_stationary = (-psi_p*div(u)+\n",
    "                dot(psi_u, dot(grad(u), u)) - div(psi_u)*p \n",
    "                + 2.*(1./Re)*inner(sym(grad(psi_u)), sym(grad(u))) \n",
    "                + dot(grad(psi_T), kappa*grad(T) - T*u))*fenics.dx"
   ]
  },
  {
   "cell_type": "markdown",
   "metadata": {},
   "source": [
    "## Boundary conditions"
   ]
  },
  {
   "cell_type": "markdown",
   "metadata": {},
   "source": [
    "We need boundary conditions before we can define a nonlinear variational *problem* (i.e. in this case a boundary value problem).\n",
    "For the velocity, we consider the moving top lid \n",
    "\\begin{align*}\n",
    "    \\mathbf{u}(1,x_1) &= \n",
    "    \\begin{pmatrix} 1 \\\\ 0 \\end{pmatrix}, 0 \\leq x_1 \\leq L.\n",
    "\\end{align*}\n",
    "We physically consider *no slip* velocity boundary conditions for the orther boundaries. These manifest as homogeneous Dirichlet boundary conditions. For the temperature boundary conditions, we consider a constant hot temperature on the left wall, a constant cold temperature on the right wall, and adiabatic (i.e. zero heat transfer) conditions on the top and bottom walls. Because the problem's geometry is simple, we can identify the boundaries with the following piece-wise function.\n",
    "\n",
    "\\begin{align*}\n",
    "    T(\\mathbf{x}) &= \n",
    "    \\begin{cases}\n",
    "        T_h , && x_0 = 0, \\\\\n",
    "        T_c , && x_0 = L.\n",
    "    \\end{cases}\n",
    "\\end{align*}"
   ]
  },
  {
   "cell_type": "code",
   "execution_count": 23,
   "metadata": {},
   "outputs": [],
   "source": [
    "hot_wall = \"near(x[0],  0.)\" #x=0 \n",
    "\n",
    "cold_wall = \"near(x[0],\"+str(L)+\")\" #x= \\bar{x}\n",
    "\n",
    "top_wall = \"near(x[1],  1.)\" #y=1\n",
    "\n",
    "bottom_wall = \"near(x[1],  0.)\" #y=0\n",
    "\n",
    "walls = hot_wall + \" | \" + cold_wall + \" | \" + bottom_wall"
   ]
  },
  {
   "cell_type": "code",
   "execution_count": 24,
   "metadata": {},
   "outputs": [],
   "source": [
    "pressure_point = \"near(x[0],  0.) & (x[1]<= \"+str(hy)+\")\" #& near(x[1],  0.)"
   ]
  },
  {
   "cell_type": "markdown",
   "metadata": {},
   "source": [
    "Define the boundary conditions on the appropriate subspaces."
   ]
  },
  {
   "cell_type": "code",
   "execution_count": 25,
   "metadata": {},
   "outputs": [],
   "source": [
    "W_p = W.sub(0)\n",
    "# set velocity BC\n",
    "boundary_conditions = [fenics.DirichletBC(W_p, 0. , pressure_point)]"
   ]
  },
  {
   "cell_type": "code",
   "execution_count": 26,
   "metadata": {},
   "outputs": [],
   "source": [
    "# numbering starts at 0 -> W.sub(0) = W_p\n",
    "W_u = W.sub(1)\n",
    "# set velocity BC\n",
    "boundary_conditions.extend([fenics.DirichletBC(W_u, (0., 0.), walls), \n",
    "                       fenics.DirichletBC(W_u, (1., 0.), top_wall)])"
   ]
  },
  {
   "cell_type": "code",
   "execution_count": 27,
   "metadata": {},
   "outputs": [],
   "source": [
    "# set temperature BC\n",
    "\n",
    "W_T = W.sub(2)\n",
    "# set velocity BC\n",
    "boundary_conditions.extend([fenics.DirichletBC(W_T, hot_wall_temperature, hot_wall), \n",
    "                             fenics.DirichletBC(W_T, cold_wall_temperature, cold_wall)])\n"
   ]
  },
  {
   "cell_type": "code",
   "execution_count": 28,
   "metadata": {},
   "outputs": [
    {
     "data": {
      "text/plain": [
       "[<dolfin.fem.dirichletbc.DirichletBC at 0x7f32680d6728>,\n",
       " <dolfin.fem.dirichletbc.DirichletBC at 0x7f32680d6990>,\n",
       " <dolfin.fem.dirichletbc.DirichletBC at 0x7f32680d6a40>,\n",
       " <dolfin.fem.dirichletbc.DirichletBC at 0x7f32680d6af0>,\n",
       " <dolfin.fem.dirichletbc.DirichletBC at 0x7f32680d6ca8>]"
      ]
     },
     "execution_count": 28,
     "metadata": {},
     "output_type": "execute_result"
    }
   ],
   "source": [
    "boundary_conditions"
   ]
  },
  {
   "cell_type": "markdown",
   "metadata": {},
   "source": [
    "## Nonlinear variational problem"
   ]
  },
  {
   "cell_type": "markdown",
   "metadata": {},
   "source": [
    "Now we have everything we need to solve the variational problem."
   ]
  },
  {
   "cell_type": "code",
   "execution_count": 29,
   "metadata": {},
   "outputs": [],
   "source": [
    "def plot_w(w, split = False):\n",
    "    \n",
    "    if split:\n",
    "        p, u, T = fenics.split(w.leaf_node())\n",
    "    else:\n",
    "        p, u, T  = w.split()   \n",
    "    \n",
    "    fig = fenics.plot(u)\n",
    "    plt.title(\"Velocity vector field\")\n",
    "    plt.xlabel(\"$x$\")\n",
    "    plt.ylabel(\"$y$\")    \n",
    "    plt.colorbar(fig)  \n",
    "    plt.show()\n",
    "\n",
    "    \n",
    "    fig = fenics.plot(p)\n",
    "    plt.title(\"Pressure field\")\n",
    "    plt.xlabel(\"$x$\")\n",
    "    plt.ylabel(\"$y$\")    \n",
    "    plt.colorbar(fig)    \n",
    "    plt.show()\n",
    "    \n",
    "    fig = fenics.plot(T)\n",
    "    plt.title(\"Temperature field\")\n",
    "    plt.xlabel(\"$x$\")\n",
    "    plt.ylabel(\"$y$\")    \n",
    "    plt.colorbar(fig)    \n",
    "    plt.show()\n",
    "    \n",
    "    return"
   ]
  },
  {
   "cell_type": "code",
   "execution_count": 30,
   "metadata": {},
   "outputs": [],
   "source": [
    "def solve_fom_fenics(reynolds=1., nt = 1, plot = True, constant = False):\n",
    "    \n",
    "    # set Reynolds\n",
    "    Re.assign(reynolds)\n",
    "    # set initial solutions\n",
    "    w_n = initial_condition(constant = constant)\n",
    "    #p_n, u_n, T_n = fenics.split(w_n)\n",
    "    # build output\n",
    "    solution_vec = np.zeros((w.leaf_node().vector()[:].size,nt))\n",
    "    \n",
    "    t = 0\n",
    "    for n in range(nt):\n",
    "\n",
    "        # Update current time\n",
    "        t += dt\n",
    "\n",
    "        #solve\n",
    "        fenics.solve(F == 0, w, boundary_conditions)\n",
    "\n",
    "        #append solution\n",
    "        solution_vec[:,n] = w.leaf_node().vector()[:].copy()\n",
    "        \n",
    "        # Update previous solution\n",
    "        w_n.assign(w)\n",
    "        if plot:\n",
    "            plot_w(w)\n",
    "        #endif\n",
    "    #end\n",
    "    \n",
    "    return solution_vec"
   ]
  },
  {
   "cell_type": "code",
   "execution_count": 31,
   "metadata": {},
   "outputs": [
    {
     "data": {
      "image/png": "[encoded data removed]",
      "text/plain": [
       "<Figure size 432x288 with 2 Axes>"
      ]
     },
     "metadata": {
      "needs_background": "light"
     },
     "output_type": "display_data"
    },
    {
     "data": {
      "image/png": "[encoded data removed]",
      "text/plain": [
       "<Figure size 432x288 with 2 Axes>"
      ]
     },
     "metadata": {
      "needs_background": "light"
     },
     "output_type": "display_data"
    },
    {
     "data": {
      "image/png": "[encoded data removed]",
      "text/plain": [
       "<Figure size 432x288 with 2 Axes>"
      ]
     },
     "metadata": {
      "needs_background": "light"
     },
     "output_type": "display_data"
    },
    {
     "data": {
      "image/png": "[encoded data removed]",
      "text/plain": [
       "<Figure size 432x288 with 2 Axes>"
      ]
     },
     "metadata": {
      "needs_background": "light"
     },
     "output_type": "display_data"
    },
    {
     "data": {
      "image/png": "[encoded data removed]",
      "text/plain": [
       "<Figure size 432x288 with 2 Axes>"
      ]
     },
     "metadata": {
      "needs_background": "light"
     },
     "output_type": "display_data"
    },
    {
     "data": {
      "image/png": "[encoded data removed]",
      "text/plain": [
       "<Figure size 432x288 with 2 Axes>"
      ]
     },
     "metadata": {
      "needs_background": "light"
     },
     "output_type": "display_data"
    },
    {
     "data": {
      "image/png": "[encoded data removed]",
      "text/plain": [
       "<Figure size 432x288 with 2 Axes>"
      ]
     },
     "metadata": {
      "needs_background": "light"
     },
     "output_type": "display_data"
    },
    {
     "data": {
      "image/png": "[encoded data removed]",
      "text/plain": [
       "<Figure size 432x288 with 2 Axes>"
      ]
     },
     "metadata": {
      "needs_background": "light"
     },
     "output_type": "display_data"
    },
    {
     "data": {
      "image/png": "[encoded data removed]",
      "text/plain": [
       "<Figure size 432x288 with 2 Axes>"
      ]
     },
     "metadata": {
      "needs_background": "light"
     },
     "output_type": "display_data"
    }
   ],
   "source": [
    "sol_fom_fe = solve_fom_fenics(reynolds=5., nt = 3)"
   ]
  },
  {
   "cell_type": "markdown",
   "metadata": {},
   "source": [
    "|Note|\n",
    "|----|\n",
    "|`solver.solve` will modify the solution `w`, which means that `u`, `p` and `T` will also be modified.|"
   ]
  },
  {
   "cell_type": "markdown",
   "metadata": {},
   "source": [
    "# ROM with Pymor\n",
    "\n",
    "## Target parameters\n",
    " \n",
    "$L, Re, T_i, T_c, T_h, \\kappa$"
   ]
  },
  {
   "cell_type": "code",
   "execution_count": 32,
   "metadata": {},
   "outputs": [
    {
     "name": "stderr",
     "output_type": "stream",
     "text": [
      "/home/pde_reduced_basis/.local/lib/python3.6/site-packages/pymor/core/config.py:23: UserWarning: FEniCS bindings have been tested for version 2019.1.0 (installed: 2019.2.0.dev0).\n",
      "  warnings.warn(f'FEniCS bindings have been tested for version 2019.1.0 (installed: {df.__version__}).')\n"
     ]
    }
   ],
   "source": [
    "# ### pyMOR wrapping\n",
    "from pymor.bindings.fenics import FenicsVectorSpace, FenicsOperator, FenicsVisualizer\n",
    "from pymor.models.basic import StationaryModel\n",
    "from pymor.operators.constructions import VectorOperator"
   ]
  },
  {
   "cell_type": "code",
   "execution_count": 33,
   "metadata": {},
   "outputs": [],
   "source": [
    "space = FenicsVectorSpace(W)"
   ]
  },
  {
   "cell_type": "code",
   "execution_count": 34,
   "metadata": {},
   "outputs": [],
   "source": [
    "from pymor.tools.formatsrc import print_source"
   ]
  },
  {
   "cell_type": "code",
   "execution_count": 35,
   "metadata": {},
   "outputs": [],
   "source": [
    "from pymor.basic import *"
   ]
  },
  {
   "cell_type": "code",
   "execution_count": 36,
   "metadata": {},
   "outputs": [],
   "source": [
    "op = FenicsOperator(F_stationary, space, space, w, boundary_conditions,\n",
    "                    parameter_setter=lambda mu: Re.assign(mu['Re'].item()),\n",
    "                    parameters={'Re':1},\n",
    "                    #parameters={'T_i': 1,'T_c': 1,'T_h':1,'kappa':1,'Re':1},\n",
    "                    solver_options={'inverse': \n",
    "                                    {'type': 'newton', 'rtol': 1e-6, 'maxiter':500,\n",
    "                                    'error_measure': 'residual'}})"
   ]
  },
  {
   "cell_type": "code",
   "execution_count": 37,
   "metadata": {},
   "outputs": [],
   "source": [
    "rhs = VectorOperator(op.range.zeros())"
   ]
  },
  {
   "cell_type": "code",
   "execution_count": 38,
   "metadata": {},
   "outputs": [
    {
     "name": "stderr",
     "output_type": "stream",
     "text": [
      "/usr/local/lib/python3.6/dist-packages/matplotlib/quiver.py:665: RuntimeWarning: divide by zero encountered in double_scalars\n",
      "  length = a * (widthu_per_lenu / (self.scale * self.width))\n",
      "/usr/local/lib/python3.6/dist-packages/matplotlib/quiver.py:665: RuntimeWarning: invalid value encountered in multiply\n",
      "  length = a * (widthu_per_lenu / (self.scale * self.width))\n"
     ]
    },
    {
     "data": {
      "image/png": "[encoded data removed]",
      "text/plain": [
       "<Figure size 432x288 with 2 Axes>"
      ]
     },
     "metadata": {
      "needs_background": "light"
     },
     "output_type": "display_data"
    },
    {
     "data": {
      "image/png": "[encoded data removed]",
      "text/plain": [
       "<Figure size 432x288 with 2 Axes>"
      ]
     },
     "metadata": {
      "needs_background": "light"
     },
     "output_type": "display_data"
    },
    {
     "data": {
      "image/png": "[encoded data removed]",
      "text/plain": [
       "<Figure size 432x288 with 2 Axes>"
      ]
     },
     "metadata": {
      "needs_background": "light"
     },
     "output_type": "display_data"
    }
   ],
   "source": [
    "# set initial solutions\n",
    "w_n = initial_condition()\n",
    "fom_init = VectorOperator(op.source.make_array([ w_n.leaf_node().vector()[:] ]))\n",
    "\n",
    "plot_w(w_n)"
   ]
  },
  {
   "cell_type": "code",
   "execution_count": 39,
   "metadata": {},
   "outputs": [],
   "source": [
    "from pymor.algorithms.timestepping import ImplicitEulerTimeStepper"
   ]
  },
  {
   "cell_type": "code",
   "execution_count": 40,
   "metadata": {},
   "outputs": [],
   "source": [
    "nt = 3\n",
    "ie_stepper = ImplicitEulerTimeStepper(nt)"
   ]
  },
  {
   "cell_type": "code",
   "execution_count": 41,
   "metadata": {},
   "outputs": [],
   "source": [
    "# define the instationary model   \n",
    "fom = InstationaryModel(dt*nt, fom_init, op, rhs, time_stepper=ie_stepper,\n",
    "                        visualizer=FenicsVisualizer(space) )"
   ]
  },
  {
   "cell_type": "markdown",
   "metadata": {},
   "source": [
    "(n,1) -> (n,)"
   ]
  },
  {
   "cell_type": "code",
   "execution_count": 42,
   "metadata": {},
   "outputs": [],
   "source": [
    "def solve_fom_pymor(Re=1., rtol=1e-6, return_residuals=True):\n",
    "    mu = fom.parameters.parse(Re)\n",
    "    UU = fom.solve(mu)\n",
    "    \n",
    "    return UU"
   ]
  },
  {
   "cell_type": "code",
   "execution_count": 43,
   "metadata": {},
   "outputs": [
    {
     "name": "stderr",
     "output_type": "stream",
     "text": [
      "00:04 InstationaryModel: Solving InstationaryModel for {Re: [1.0]} ...\n"
     ]
    },
    {
     "ename": "AssertionError",
     "evalue": "",
     "output_type": "error",
     "traceback": [
      "\u001b[0;31m---------------------------------------------------------------------------\u001b[0m",
      "\u001b[0;31mAssertionError\u001b[0m                            Traceback (most recent call last)",
      "\u001b[0;32m<ipython-input-43-611abdb2951b>\u001b[0m in \u001b[0;36m<module>\u001b[0;34m\u001b[0m\n\u001b[0;32m----> 1\u001b[0;31m \u001b[0mU_py\u001b[0m \u001b[0;34m=\u001b[0m \u001b[0msolve_fom_pymor\u001b[0m\u001b[0;34m(\u001b[0m\u001b[0;34m)\u001b[0m\u001b[0;34m\u001b[0m\u001b[0;34m\u001b[0m\u001b[0m\n\u001b[0m",
      "\u001b[0;32m<ipython-input-42-142b4193be13>\u001b[0m in \u001b[0;36msolve_fom_pymor\u001b[0;34m(Re, rtol, return_residuals)\u001b[0m\n\u001b[1;32m      1\u001b[0m \u001b[0;32mdef\u001b[0m \u001b[0msolve_fom_pymor\u001b[0m\u001b[0;34m(\u001b[0m\u001b[0mRe\u001b[0m\u001b[0;34m=\u001b[0m\u001b[0;36m1.\u001b[0m\u001b[0;34m,\u001b[0m \u001b[0mrtol\u001b[0m\u001b[0;34m=\u001b[0m\u001b[0;36m1e-6\u001b[0m\u001b[0;34m,\u001b[0m \u001b[0mreturn_residuals\u001b[0m\u001b[0;34m=\u001b[0m\u001b[0;32mTrue\u001b[0m\u001b[0;34m)\u001b[0m\u001b[0;34m:\u001b[0m\u001b[0;34m\u001b[0m\u001b[0;34m\u001b[0m\u001b[0m\n\u001b[1;32m      2\u001b[0m     \u001b[0mmu\u001b[0m \u001b[0;34m=\u001b[0m \u001b[0mfom\u001b[0m\u001b[0;34m.\u001b[0m\u001b[0mparameters\u001b[0m\u001b[0;34m.\u001b[0m\u001b[0mparse\u001b[0m\u001b[0;34m(\u001b[0m\u001b[0mRe\u001b[0m\u001b[0;34m)\u001b[0m\u001b[0;34m\u001b[0m\u001b[0;34m\u001b[0m\u001b[0m\n\u001b[0;32m----> 3\u001b[0;31m     \u001b[0mUU\u001b[0m \u001b[0;34m=\u001b[0m \u001b[0mfom\u001b[0m\u001b[0;34m.\u001b[0m\u001b[0msolve\u001b[0m\u001b[0;34m(\u001b[0m\u001b[0mmu\u001b[0m\u001b[0;34m)\u001b[0m\u001b[0;34m\u001b[0m\u001b[0;34m\u001b[0m\u001b[0m\n\u001b[0m\u001b[1;32m      4\u001b[0m \u001b[0;34m\u001b[0m\u001b[0m\n\u001b[1;32m      5\u001b[0m     \u001b[0;32mreturn\u001b[0m \u001b[0mUU\u001b[0m\u001b[0;34m\u001b[0m\u001b[0;34m\u001b[0m\u001b[0m\n",
      "\u001b[0;32m~/.local/lib/python3.6/site-packages/pymor/models/interface.py\u001b[0m in \u001b[0;36msolve\u001b[0;34m(self, mu, return_error_estimate, **kwargs)\u001b[0m\n\u001b[1;32m    422\u001b[0m             \u001b[0msolution_error_estimate\u001b[0m\u001b[0;34m=\u001b[0m\u001b[0mreturn_error_estimate\u001b[0m\u001b[0;34m,\u001b[0m\u001b[0;34m\u001b[0m\u001b[0;34m\u001b[0m\u001b[0m\n\u001b[1;32m    423\u001b[0m             \u001b[0mmu\u001b[0m\u001b[0;34m=\u001b[0m\u001b[0mmu\u001b[0m\u001b[0;34m,\u001b[0m\u001b[0;34m\u001b[0m\u001b[0;34m\u001b[0m\u001b[0m\n\u001b[0;32m--> 424\u001b[0;31m             \u001b[0;34m**\u001b[0m\u001b[0mkwargs\u001b[0m\u001b[0;34m\u001b[0m\u001b[0;34m\u001b[0m\u001b[0m\n\u001b[0m\u001b[1;32m    425\u001b[0m         )\n\u001b[1;32m    426\u001b[0m         \u001b[0;32mif\u001b[0m \u001b[0mreturn_error_estimate\u001b[0m\u001b[0;34m:\u001b[0m\u001b[0;34m\u001b[0m\u001b[0;34m\u001b[0m\u001b[0m\n",
      "\u001b[0;32m~/.local/lib/python3.6/site-packages/pymor/models/interface.py\u001b[0m in \u001b[0;36mcompute\u001b[0;34m(self, solution, output, solution_d_mu, output_d_mu, solution_error_estimate, output_error_estimate, output_d_mu_return_array, mu, **kwargs)\u001b[0m\n\u001b[1;32m    333\u001b[0m                 output_error_estimate or solution_d_mu or output_d_mu) \\\n\u001b[1;32m    334\u001b[0m            \u001b[0;32mand\u001b[0m \u001b[0;34m'solution'\u001b[0m \u001b[0;32mnot\u001b[0m \u001b[0;32min\u001b[0m \u001b[0mdata\u001b[0m\u001b[0;34m:\u001b[0m\u001b[0;34m\u001b[0m\u001b[0;34m\u001b[0m\u001b[0m\n\u001b[0;32m--> 335\u001b[0;31m             \u001b[0mretval\u001b[0m \u001b[0;34m=\u001b[0m \u001b[0mself\u001b[0m\u001b[0;34m.\u001b[0m\u001b[0mcached_method_call\u001b[0m\u001b[0;34m(\u001b[0m\u001b[0mself\u001b[0m\u001b[0;34m.\u001b[0m\u001b[0m_compute_solution\u001b[0m\u001b[0;34m,\u001b[0m \u001b[0mmu\u001b[0m\u001b[0;34m=\u001b[0m\u001b[0mmu\u001b[0m\u001b[0;34m,\u001b[0m \u001b[0;34m**\u001b[0m\u001b[0mkwargs\u001b[0m\u001b[0;34m)\u001b[0m\u001b[0;34m\u001b[0m\u001b[0;34m\u001b[0m\u001b[0m\n\u001b[0m\u001b[1;32m    336\u001b[0m             \u001b[0;32mif\u001b[0m \u001b[0misinstance\u001b[0m\u001b[0;34m(\u001b[0m\u001b[0mretval\u001b[0m\u001b[0;34m,\u001b[0m \u001b[0mdict\u001b[0m\u001b[0;34m)\u001b[0m\u001b[0;34m:\u001b[0m\u001b[0;34m\u001b[0m\u001b[0;34m\u001b[0m\u001b[0m\n\u001b[1;32m    337\u001b[0m                 \u001b[0;32massert\u001b[0m \u001b[0;34m'solution'\u001b[0m \u001b[0;32min\u001b[0m \u001b[0mretval\u001b[0m\u001b[0;34m\u001b[0m\u001b[0;34m\u001b[0m\u001b[0m\n",
      "\u001b[0;32m~/.local/lib/python3.6/site-packages/pymor/core/cache.py\u001b[0m in \u001b[0;36mcached_method_call\u001b[0;34m(self, method, *args, **kwargs)\u001b[0m\n\u001b[1;32m    313\u001b[0m \u001b[0;34m\u001b[0m\u001b[0m\n\u001b[1;32m    314\u001b[0m         \u001b[0;32mif\u001b[0m \u001b[0m_caching_disabled\u001b[0m \u001b[0;32mor\u001b[0m \u001b[0mself\u001b[0m\u001b[0;34m.\u001b[0m\u001b[0mcache_region\u001b[0m \u001b[0;32mis\u001b[0m \u001b[0;32mNone\u001b[0m\u001b[0;34m:\u001b[0m\u001b[0;34m\u001b[0m\u001b[0;34m\u001b[0m\u001b[0m\n\u001b[0;32m--> 315\u001b[0;31m             \u001b[0;32mreturn\u001b[0m \u001b[0mmethod\u001b[0m\u001b[0;34m(\u001b[0m\u001b[0;34m*\u001b[0m\u001b[0margs\u001b[0m\u001b[0;34m,\u001b[0m \u001b[0;34m**\u001b[0m\u001b[0mkwargs\u001b[0m\u001b[0;34m)\u001b[0m\u001b[0;34m\u001b[0m\u001b[0;34m\u001b[0m\u001b[0m\n\u001b[0m\u001b[1;32m    316\u001b[0m \u001b[0;34m\u001b[0m\u001b[0m\n\u001b[1;32m    317\u001b[0m         \u001b[0mparams\u001b[0m \u001b[0;34m=\u001b[0m \u001b[0minspect\u001b[0m\u001b[0;34m.\u001b[0m\u001b[0msignature\u001b[0m\u001b[0;34m(\u001b[0m\u001b[0mmethod\u001b[0m\u001b[0;34m)\u001b[0m\u001b[0;34m.\u001b[0m\u001b[0mparameters\u001b[0m\u001b[0;34m\u001b[0m\u001b[0;34m\u001b[0m\u001b[0m\n",
      "\u001b[0;32m~/.local/lib/python3.6/site-packages/pymor/models/basic.py\u001b[0m in \u001b[0;36m_compute_solution\u001b[0;34m(self, mu, **kwargs)\u001b[0m\n\u001b[1;32m    255\u001b[0m                                     \u001b[0minitial_data\u001b[0m\u001b[0;34m=\u001b[0m\u001b[0mU0\u001b[0m\u001b[0;34m,\u001b[0m\u001b[0;34m\u001b[0m\u001b[0;34m\u001b[0m\u001b[0m\n\u001b[1;32m    256\u001b[0m                                     \u001b[0mmass\u001b[0m\u001b[0;34m=\u001b[0m\u001b[0;32mNone\u001b[0m \u001b[0;32mif\u001b[0m \u001b[0misinstance\u001b[0m\u001b[0;34m(\u001b[0m\u001b[0mself\u001b[0m\u001b[0;34m.\u001b[0m\u001b[0mmass\u001b[0m\u001b[0;34m,\u001b[0m \u001b[0mIdentityOperator\u001b[0m\u001b[0;34m)\u001b[0m \u001b[0;32melse\u001b[0m \u001b[0mself\u001b[0m\u001b[0;34m.\u001b[0m\u001b[0mmass\u001b[0m\u001b[0;34m,\u001b[0m\u001b[0;34m\u001b[0m\u001b[0;34m\u001b[0m\u001b[0m\n\u001b[0;32m--> 257\u001b[0;31m                                     initial_time=0, end_time=self.T, mu=mu, num_values=self.num_values)\n\u001b[0m\u001b[1;32m    258\u001b[0m         \u001b[0;32mreturn\u001b[0m \u001b[0mU\u001b[0m\u001b[0;34m\u001b[0m\u001b[0;34m\u001b[0m\u001b[0m\n\u001b[1;32m    259\u001b[0m \u001b[0;34m\u001b[0m\u001b[0m\n",
      "\u001b[0;32m~/.local/lib/python3.6/site-packages/pymor/algorithms/timestepping.py\u001b[0m in \u001b[0;36msolve\u001b[0;34m(self, initial_time, end_time, initial_data, operator, rhs, mass, mu, num_values)\u001b[0m\n\u001b[1;32m     94\u001b[0m     \u001b[0;32mdef\u001b[0m \u001b[0msolve\u001b[0m\u001b[0;34m(\u001b[0m\u001b[0mself\u001b[0m\u001b[0;34m,\u001b[0m \u001b[0minitial_time\u001b[0m\u001b[0;34m,\u001b[0m \u001b[0mend_time\u001b[0m\u001b[0;34m,\u001b[0m \u001b[0minitial_data\u001b[0m\u001b[0;34m,\u001b[0m \u001b[0moperator\u001b[0m\u001b[0;34m,\u001b[0m \u001b[0mrhs\u001b[0m\u001b[0;34m=\u001b[0m\u001b[0;32mNone\u001b[0m\u001b[0;34m,\u001b[0m \u001b[0mmass\u001b[0m\u001b[0;34m=\u001b[0m\u001b[0;32mNone\u001b[0m\u001b[0;34m,\u001b[0m \u001b[0mmu\u001b[0m\u001b[0;34m=\u001b[0m\u001b[0;32mNone\u001b[0m\u001b[0;34m,\u001b[0m \u001b[0mnum_values\u001b[0m\u001b[0;34m=\u001b[0m\u001b[0;32mNone\u001b[0m\u001b[0;34m)\u001b[0m\u001b[0;34m:\u001b[0m\u001b[0;34m\u001b[0m\u001b[0;34m\u001b[0m\u001b[0m\n\u001b[1;32m     95\u001b[0m         return implicit_euler(operator, rhs, mass, initial_data, initial_time, end_time, self.nt, mu, num_values,\n\u001b[0;32m---> 96\u001b[0;31m                               solver_options=self.solver_options)\n\u001b[0m\u001b[1;32m     97\u001b[0m \u001b[0;34m\u001b[0m\u001b[0m\n\u001b[1;32m     98\u001b[0m \u001b[0;34m\u001b[0m\u001b[0m\n",
      "\u001b[0;32m~/.local/lib/python3.6/site-packages/pymor/algorithms/timestepping.py\u001b[0m in \u001b[0;36mimplicit_euler\u001b[0;34m(A, F, M, U0, t0, t1, nt, mu, num_values, solver_options)\u001b[0m\n\u001b[1;32m    135\u001b[0m         \u001b[0mF_time_dep\u001b[0m \u001b[0;34m=\u001b[0m \u001b[0mF\u001b[0m\u001b[0;34m.\u001b[0m\u001b[0mparametric\u001b[0m \u001b[0;32mand\u001b[0m \u001b[0;34m't'\u001b[0m \u001b[0;32min\u001b[0m \u001b[0mF\u001b[0m\u001b[0;34m.\u001b[0m\u001b[0mparameters\u001b[0m\u001b[0;34m\u001b[0m\u001b[0;34m\u001b[0m\u001b[0m\n\u001b[1;32m    136\u001b[0m         \u001b[0;32mif\u001b[0m \u001b[0;32mnot\u001b[0m \u001b[0mF_time_dep\u001b[0m\u001b[0;34m:\u001b[0m\u001b[0;34m\u001b[0m\u001b[0;34m\u001b[0m\u001b[0m\n\u001b[0;32m--> 137\u001b[0;31m             \u001b[0mdt_F\u001b[0m \u001b[0;34m=\u001b[0m \u001b[0mF\u001b[0m\u001b[0;34m.\u001b[0m\u001b[0mas_vector\u001b[0m\u001b[0;34m(\u001b[0m\u001b[0mmu\u001b[0m\u001b[0;34m)\u001b[0m \u001b[0;34m*\u001b[0m \u001b[0mdt\u001b[0m\u001b[0;34m\u001b[0m\u001b[0;34m\u001b[0m\u001b[0m\n\u001b[0m\u001b[1;32m    138\u001b[0m     \u001b[0;32melse\u001b[0m\u001b[0;34m:\u001b[0m\u001b[0;34m\u001b[0m\u001b[0;34m\u001b[0m\u001b[0m\n\u001b[1;32m    139\u001b[0m         \u001b[0;32massert\u001b[0m \u001b[0mlen\u001b[0m\u001b[0;34m(\u001b[0m\u001b[0mF\u001b[0m\u001b[0;34m)\u001b[0m \u001b[0;34m==\u001b[0m \u001b[0;36m1\u001b[0m\u001b[0;34m\u001b[0m\u001b[0;34m\u001b[0m\u001b[0m\n",
      "\u001b[0;32m~/.local/lib/python3.6/site-packages/pymor/vectorarrays/interface.py\u001b[0m in \u001b[0;36m__mul__\u001b[0;34m(self, other)\u001b[0m\n\u001b[1;32m    612\u001b[0m     \u001b[0;32mdef\u001b[0m \u001b[0m__mul__\u001b[0m\u001b[0;34m(\u001b[0m\u001b[0mself\u001b[0m\u001b[0;34m,\u001b[0m \u001b[0mother\u001b[0m\u001b[0;34m)\u001b[0m\u001b[0;34m:\u001b[0m\u001b[0;34m\u001b[0m\u001b[0;34m\u001b[0m\u001b[0m\n\u001b[1;32m    613\u001b[0m         \u001b[0mresult\u001b[0m \u001b[0;34m=\u001b[0m \u001b[0mself\u001b[0m\u001b[0;34m.\u001b[0m\u001b[0mcopy\u001b[0m\u001b[0;34m(\u001b[0m\u001b[0;34m)\u001b[0m\u001b[0;34m\u001b[0m\u001b[0;34m\u001b[0m\u001b[0m\n\u001b[0;32m--> 614\u001b[0;31m         \u001b[0mresult\u001b[0m\u001b[0;34m.\u001b[0m\u001b[0mscal\u001b[0m\u001b[0;34m(\u001b[0m\u001b[0mother\u001b[0m\u001b[0;34m)\u001b[0m\u001b[0;34m\u001b[0m\u001b[0;34m\u001b[0m\u001b[0m\n\u001b[0m\u001b[1;32m    615\u001b[0m         \u001b[0;32mreturn\u001b[0m \u001b[0mresult\u001b[0m\u001b[0;34m\u001b[0m\u001b[0;34m\u001b[0m\u001b[0m\n\u001b[1;32m    616\u001b[0m \u001b[0;34m\u001b[0m\u001b[0m\n",
      "\u001b[0;32m~/.local/lib/python3.6/site-packages/pymor/vectorarrays/list.py\u001b[0m in \u001b[0;36mscal\u001b[0;34m(self, alpha)\u001b[0m\n\u001b[1;32m    412\u001b[0m     \u001b[0;32mdef\u001b[0m \u001b[0mscal\u001b[0m\u001b[0;34m(\u001b[0m\u001b[0mself\u001b[0m\u001b[0;34m,\u001b[0m \u001b[0malpha\u001b[0m\u001b[0;34m)\u001b[0m\u001b[0;34m:\u001b[0m\u001b[0;34m\u001b[0m\u001b[0;34m\u001b[0m\u001b[0m\n\u001b[1;32m    413\u001b[0m         \u001b[0;32massert\u001b[0m \u001b[0misinstance\u001b[0m\u001b[0;34m(\u001b[0m\u001b[0malpha\u001b[0m\u001b[0;34m,\u001b[0m \u001b[0mNumber\u001b[0m\u001b[0;34m)\u001b[0m\u001b[0;31m \u001b[0m\u001b[0;31m\\\u001b[0m\u001b[0;34m\u001b[0m\u001b[0;34m\u001b[0m\u001b[0m\n\u001b[0;32m--> 414\u001b[0;31m             \u001b[0;32mor\u001b[0m \u001b[0misinstance\u001b[0m\u001b[0;34m(\u001b[0m\u001b[0malpha\u001b[0m\u001b[0;34m,\u001b[0m \u001b[0mnp\u001b[0m\u001b[0;34m.\u001b[0m\u001b[0mndarray\u001b[0m\u001b[0;34m)\u001b[0m \u001b[0;32mand\u001b[0m \u001b[0malpha\u001b[0m\u001b[0;34m.\u001b[0m\u001b[0mshape\u001b[0m \u001b[0;34m==\u001b[0m \u001b[0;34m(\u001b[0m\u001b[0mlen\u001b[0m\u001b[0;34m(\u001b[0m\u001b[0mself\u001b[0m\u001b[0;34m)\u001b[0m\u001b[0;34m,\u001b[0m\u001b[0;34m)\u001b[0m\u001b[0;34m\u001b[0m\u001b[0;34m\u001b[0m\u001b[0m\n\u001b[0m\u001b[1;32m    415\u001b[0m \u001b[0;34m\u001b[0m\u001b[0m\n\u001b[1;32m    416\u001b[0m         \u001b[0;32mif\u001b[0m \u001b[0mtype\u001b[0m\u001b[0;34m(\u001b[0m\u001b[0malpha\u001b[0m\u001b[0;34m)\u001b[0m \u001b[0;32mis\u001b[0m \u001b[0mnp\u001b[0m\u001b[0;34m.\u001b[0m\u001b[0mndarray\u001b[0m\u001b[0;34m:\u001b[0m\u001b[0;34m\u001b[0m\u001b[0;34m\u001b[0m\u001b[0m\n",
      "\u001b[0;31mAssertionError\u001b[0m: "
     ]
    }
   ],
   "source": [
    "U_py = solve_fom_pymor()"
   ]
  },
  {
   "cell_type": "code",
   "execution_count": null,
   "metadata": {},
   "outputs": [],
   "source": [
    "# fom solution\n",
    "plot_w(U_py)"
   ]
  },
  {
   "cell_type": "code",
   "execution_count": null,
   "metadata": {},
   "outputs": [],
   "source": []
  }
 ],
 "metadata": {
  "kernelspec": {
   "display_name": "Python 3",
   "language": "python",
   "name": "python3"
  },
  "language_info": {
   "codemirror_mode": {
    "name": "ipython",
    "version": 3
   },
   "file_extension": ".py",
   "mimetype": "text/x-python",
   "name": "python",
   "nbconvert_exporter": "python",
   "pygments_lexer": "ipython3",
   "version": "3.6.9"
  }
 },
 "nbformat": 4,
 "nbformat_minor": 2
}
