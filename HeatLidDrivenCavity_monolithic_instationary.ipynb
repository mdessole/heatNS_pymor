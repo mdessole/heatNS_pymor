{
 "cells": [
  {
   "cell_type": "markdown",
   "metadata": {},
   "source": [
    "# Solving incompressible heat flow in a cavity"
   ]
  },
  {
   "cell_type": "markdown",
   "metadata": {},
   "source": [
    "Let us consider the Stokes equations for the velocity $\\mathbf{u}$ and the pressure $p$ of an incompressible fluid\n",
    "\n",
    "\\begin{align*} \n",
    "    \\nabla \\cdot \\mathbf{u} &= 0,  \\\\\n",
    "     \\partial_t \\mathbf{u} + \\left( \\mathbf{u}\\cdot\\nabla \\right)\\mathbf{u} + \\nabla p - 2\\mu \\nabla \\cdot \\mathbf{D}(\\mathbf{u}) &= 0,\n",
    "\\end{align*}\n",
    "\n",
    "where  $\\mathbf{D}(\\mathbf{u}) = \\mathrm{sym}(\\mathbf{u}) = \\frac{1}{2}\\left(\\nabla \\mathbf{u} +  \\left( \\nabla \\mathbf{u} \\right)^{\\mathrm{T}} \\right)$ is the Newtonian fluid's rate of strain tensor and $\\mu$ is the viscosity. \n",
    "\n",
    "Moreover, consider a convection-diffusion equation that governs the evolution of the temperature field\n",
    "\\begin{align*} \n",
    "    \\partial_t T +\\mathbf{u}\\cdot\\nabla T - \\kappa \\Delta T &= 0,\n",
    "\\end{align*}\n",
    "where $\\kappa$ is the constant thermal condictivity. \n",
    "\n",
    "The space domain is $\\Omega = [0,L] \\times [0,1]$, $L > 0$, and the space variable is $\\mathbf{x}= \\begin{pmatrix} x_0 \\\\ x_1 \\end{pmatrix}$. Time domain is $[0,T]$, with $T>0$.\n",
    "\n",
    "Boundary conditions for the velocity are \n",
    "\\begin{align*} \n",
    "    \\mathbf{u}(t,x_0,1) &= \\begin{pmatrix} 1 \\\\ 0 \\end{pmatrix}, &&  0 \\leq x_0 \\leq L \\\\\n",
    "    \\mathbf{u}(t,x_0,x_1) &= \\begin{pmatrix} 0 \\\\ 0 \\end{pmatrix} && \\text{elsewhere on } \\partial \\Omega,\n",
    "\\end{align*}\n",
    "and for the temperature field we set\n",
    "\\begin{align*} \n",
    "    T(t,0,x_1) &= T_h, && 0 \\leq x_1 \\leq 1, \\\\\n",
    "    T(t,L,x_1) &= T_c, && 0 \\leq x_1 \\leq 1, \\\\\n",
    "\\end{align*}\n",
    "for all $t \\in [0,T]$.\n",
    "Initial conditions are\n",
    "\\begin{align*} \n",
    "    \\mathbf{u}(0,\\mathbf{x}) &= \\begin{pmatrix} 0 \\\\ 0 \\end{pmatrix}, \\\\\n",
    "    T(0,\\mathbf{x}) &= T_i.\n",
    "\\end{align*}\n"
   ]
  },
  {
   "cell_type": "markdown",
   "metadata": {},
   "source": [
    "## Python packages"
   ]
  },
  {
   "cell_type": "markdown",
   "metadata": {},
   "source": [
    "Import the Python packages for use in this notebook."
   ]
  },
  {
   "cell_type": "markdown",
   "metadata": {},
   "source": [
    "We need the finite element method library FEniCS."
   ]
  },
  {
   "cell_type": "code",
   "execution_count": 1,
   "metadata": {},
   "outputs": [],
   "source": [
    "import fenics"
   ]
  },
  {
   "cell_type": "code",
   "execution_count": 2,
   "metadata": {},
   "outputs": [
    {
     "data": {
      "text/plain": [
       "'2019.1.0'"
      ]
     },
     "execution_count": 2,
     "metadata": {},
     "output_type": "execute_result"
    }
   ],
   "source": [
    "import dolfin\n",
    "dolfin.__version__"
   ]
  },
  {
   "cell_type": "code",
   "execution_count": 3,
   "metadata": {},
   "outputs": [
    {
     "data": {
      "text/plain": [
       "'2019.1.0'"
      ]
     },
     "execution_count": 3,
     "metadata": {},
     "output_type": "execute_result"
    }
   ],
   "source": [
    "import ufl\n",
    "ufl.__version__"
   ]
  },
  {
   "cell_type": "code",
   "execution_count": 4,
   "metadata": {},
   "outputs": [
    {
     "data": {
      "text/plain": [
       "'2021.1.0'"
      ]
     },
     "execution_count": 4,
     "metadata": {},
     "output_type": "execute_result"
    }
   ],
   "source": [
    "import pymor\n",
    "pymor.__version__"
   ]
  },
  {
   "cell_type": "markdown",
   "metadata": {},
   "source": [
    "FEniCS has convenient plotting features that don't require us to import `matplotlib`; but using `matplotlib` directly will allow us to annotate the plots."
   ]
  },
  {
   "cell_type": "code",
   "execution_count": 5,
   "metadata": {},
   "outputs": [],
   "source": [
    "import numpy as np\n",
    "import matplotlib.pyplot as plt\n",
    "%matplotlib inline"
   ]
  },
  {
   "cell_type": "markdown",
   "metadata": {},
   "source": [
    "## Benchmark parameters"
   ]
  },
  {
   "cell_type": "markdown",
   "metadata": {},
   "source": [
    "Set constant Reynolds number and conductivity coefficient Kappa. For each we define a `fenics.Constant` for use in the variational form so that FEniCS can more efficiently compile the finite element code."
   ]
  },
  {
   "cell_type": "code",
   "execution_count": 6,
   "metadata": {},
   "outputs": [],
   "source": [
    "#dynamic_viscosity = 10.\n",
    "Re = fenics.Constant(500)\n",
    "#mu = fenics.Constant(dynamic_viscosity)\n",
    "prandtl_number = 0.71\n",
    "#Pr = fenics.Constant(prandtl_number)\n",
    "kappa = fenics.Constant(1./0.71)"
   ]
  },
  {
   "cell_type": "markdown",
   "metadata": {},
   "source": [
    "Furthermore the benchmark problem involves hot and cold walls with constant temperatures $T_h$ and $T_c$, respectively, and the initial temperature $T_i$ of the domain."
   ]
  },
  {
   "cell_type": "code",
   "execution_count": 7,
   "metadata": {},
   "outputs": [],
   "source": [
    "hot_wall_temperature = 0.5\n",
    "T_h = fenics.Constant(hot_wall_temperature)\n",
    "cold_wall_temperature = -0.5\n",
    "T_c = fenics.Constant(cold_wall_temperature)\n",
    "initial_temperature = 0.0\n",
    "T_i = fenics.Constant(initial_temperature)"
   ]
  },
  {
   "cell_type": "markdown",
   "metadata": {},
   "source": [
    "## Structured mesh definition\n",
    "Now, define a structured mesh on the rectangle with bottom left corner $(0,0)$ and top right corner $(\\bar{x},\\bar{y}) = (L,1)$ and ratio $(\\bar{x} - 0)/(\\bar{y} - 0) = L$."
   ]
  },
  {
   "cell_type": "code",
   "execution_count": 8,
   "metadata": {},
   "outputs": [],
   "source": [
    "L = 1.2"
   ]
  },
  {
   "cell_type": "code",
   "execution_count": 9,
   "metadata": {},
   "outputs": [],
   "source": [
    "if 0:\n",
    "    N = 8\n",
    "    mesh = fenics.UnitSquareMesh(N, N)\n",
    "    ratio = 1.0\n",
    "elif 1:\n",
    "    ny = 10\n",
    "    nx = int(ny*L)#1.0/ratio)\n",
    "    mesh = fenics.RectangleMesh(fenics.Point(0, 0), \n",
    "                                fenics.Point(L, 1.0), nx, ny, \"right/left\")\n",
    "else: \n",
    "    #unstructured mesh, mshr module needed\n",
    "    domain = mshr.Rectangle(fenics.Point(0, 0), fenics.Point(L,1.0))\n",
    "    mesh = mshr.generate_mesh(domain, 8)"
   ]
  },
  {
   "cell_type": "code",
   "execution_count": 10,
   "metadata": {},
   "outputs": [
    {
     "data": {
      "image/png": "[encoded data removed]",
      "text/plain": [
       "<Figure size 432x288 with 1 Axes>"
      ]
     },
     "metadata": {
      "needs_background": "light"
     },
     "output_type": "display_data"
    }
   ],
   "source": [
    "fenics.plot(mesh)\n",
    "plt.title(\"Mesh\")\n",
    "plt.xlabel(\"$x$\")\n",
    "plt.ylabel(\"$y$\")\n",
    "plt.show()"
   ]
  },
  {
   "cell_type": "code",
   "execution_count": 11,
   "metadata": {},
   "outputs": [
    {
     "data": {
      "text/plain": [
       "0.1"
      ]
     },
     "execution_count": 11,
     "metadata": {},
     "output_type": "execute_result"
    }
   ],
   "source": [
    "hy = 1./ny\n",
    "hy"
   ]
  },
  {
   "cell_type": "code",
   "execution_count": 12,
   "metadata": {},
   "outputs": [],
   "source": [
    "#set compiler\n",
    "from dolfin.cpp.parameter import parameters, Parameters\n",
    "from dolfin.parameter import ffc_default_parameters\n",
    "\n",
    "if not parameters.has_parameter_set(\"form_compiler\"):\n",
    "    parameters.add(ffc_default_parameters())"
   ]
  },
  {
   "cell_type": "markdown",
   "metadata": {},
   "source": [
    "## Mixed finite element function space, test functions, and solution functions"
   ]
  },
  {
   "cell_type": "markdown",
   "metadata": {},
   "source": [
    "Make the mixed finite element. We choose pressure and velocity subspaces analagous to the Taylor-Hood (i.e. P2P1) mixed element [1], but we extend this further with a P1 element for the temperature."
   ]
  },
  {
   "cell_type": "code",
   "execution_count": 13,
   "metadata": {},
   "outputs": [],
   "source": [
    "P1 = fenics.FiniteElement('P', mesh.ufl_cell(), 1)\n",
    "P2 = fenics.VectorElement('P', mesh.ufl_cell(), 2)\n",
    "\n",
    "#P2 = fenics.VectorFunctionSpace(mesh, 'P', 2)\n",
    "#P1 = fenics.FunctionSpace(mesh, 'P', 1)\n",
    "\n",
    "mixed_element = fenics.MixedElement([P1, P2,P1])"
   ]
  },
  {
   "cell_type": "markdown",
   "metadata": {},
   "source": [
    "|Note|\n",
    "|----|\n",
    "|`fenics.FiniteElement` requires the `mesh.ufl_cell()` argument to determine some aspects of the domain (e.g. that the spatial domain is two-dimensional).|"
   ]
  },
  {
   "cell_type": "markdown",
   "metadata": {},
   "source": [
    "Make the mixed finite element function space $\\mathbf{W}$, which enumerates the mixed element basis functions for pressure, velocity and temperature on each cell of the mesh."
   ]
  },
  {
   "cell_type": "code",
   "execution_count": 14,
   "metadata": {},
   "outputs": [],
   "source": [
    "W = fenics.FunctionSpace(mesh, mixed_element)"
   ]
  },
  {
   "cell_type": "markdown",
   "metadata": {},
   "source": [
    "Make the test functions $\\psi_p,\\boldsymbol{\\psi}_u, \\psi_T \\in \\mathbf{W}$."
   ]
  },
  {
   "cell_type": "code",
   "execution_count": 15,
   "metadata": {},
   "outputs": [],
   "source": [
    "# TestFunctions\n",
    "psi_p, psi_u, psi_T = fenics.TestFunctions(W)"
   ]
  },
  {
   "cell_type": "code",
   "execution_count": 16,
   "metadata": {},
   "outputs": [
    {
     "data": {
      "text/plain": [
       "(ufl.indexed.Indexed, ufl.tensors.ListTensor, ufl.indexed.Indexed)"
      ]
     },
     "execution_count": 16,
     "metadata": {},
     "output_type": "execute_result"
    }
   ],
   "source": [
    "type(psi_p), type(psi_u), type(psi_T)"
   ]
  },
  {
   "cell_type": "markdown",
   "metadata": {},
   "source": [
    "Make the Heat-Navier-Stokes system solution function $\\mathbf{w} \\in \\mathbf{W}$ and obtain references to its components $p$, $\\mathbf{u}, T$."
   ]
  },
  {
   "cell_type": "code",
   "execution_count": 20,
   "metadata": {},
   "outputs": [],
   "source": [
    "#solution functions\n",
    "w = fenics.Function(W)#ufl.Argument(W)#Function(W)\n",
    "p, u, T = fenics.split(w)"
   ]
  },
  {
   "cell_type": "code",
   "execution_count": 21,
   "metadata": {},
   "outputs": [],
   "source": [
    "#test functions\n",
    "w_n = fenics.Function(W)\n",
    "p_n, u_n, T_n = fenics.split(w_n)"
   ]
  },
  {
   "cell_type": "markdown",
   "metadata": {},
   "source": [
    "## Time discretization\n",
    "\n",
    "We are solving an initial value problem. We will prescribe the initial values, and then take discrete steps forward in time which solve the governing equations. For this we consider the initial values\n",
    "\n",
    "\\begin{align*}\n",
    "    p^0  = 0,  \\\\\n",
    "    \\mathbf{u}^0 = \\begin{pmatrix} 0 \\\\ 0 \\end{pmatrix}, \\\\\n",
    "\\end{align*}\n",
    "and\n",
    "\\begin{align*}\n",
    "    T^0  = T_h + x_0(T_c - T_h)\\quad \\text{ or } \\quad T^0 = T_i.\n",
    "\\end{align*}"
   ]
  },
  {
   "cell_type": "code",
   "execution_count": 22,
   "metadata": {},
   "outputs": [],
   "source": [
    "def initial_condition(constant = True):\n",
    "    if (constant):\n",
    "        w_n = fenics.interpolate(fenics.Expression((\"0.\", \"0.\", \"0.\",\"T_i\" ), \n",
    "                                 T_i = initial_temperature,element = mixed_element),W)\n",
    "    else:\n",
    "        w_n = fenics.interpolate(fenics.Expression((\"0.\", \"0.\", \"0.\",\n",
    "                                                    \"T_h + x[0]*(T_c - T_h)\" ),\n",
    "                                                   T_h = hot_wall_temperature,\n",
    "                                                   T_c = cold_wall_temperature,\n",
    "                                                   T_i = initial_temperature,\n",
    "                                                   element = mixed_element),W)\n",
    "    #end    \n",
    "     \n",
    "    #endif\n",
    "    return w_n"
   ]
  },
  {
   "cell_type": "code",
   "execution_count": 23,
   "metadata": {},
   "outputs": [],
   "source": [
    "w_n = initial_condition(constant = True)\n",
    "p_n, u_n, T_n = fenics.split(w_n)"
   ]
  },
  {
   "cell_type": "code",
   "execution_count": 24,
   "metadata": {},
   "outputs": [],
   "source": [
    "if not parameters.has_parameter_set(\"form_compiler\"):\n",
    "    parameters.add(ffc_default_parameters())"
   ]
  },
  {
   "cell_type": "code",
   "execution_count": 25,
   "metadata": {},
   "outputs": [
    {
     "name": "stdout",
     "output_type": "stream",
     "text": [
      "Object cannot be plotted directly, projecting to piecewise linears.\n"
     ]
    },
    {
     "data": {
      "text/plain": [
       "Text(0, 0.5, '$y$')"
      ]
     },
     "execution_count": 25,
     "metadata": {},
     "output_type": "execute_result"
    },
    {
     "data": {
      "image/png": "[encoded data removed]",
      "text/plain": [
       "<Figure size 432x288 with 2 Axes>"
      ]
     },
     "metadata": {
      "needs_background": "light"
     },
     "output_type": "display_data"
    }
   ],
   "source": [
    "fig = fenics.plot(T_n)\n",
    "plt.colorbar(fig)\n",
    "plt.title(\"$T^0$\")\n",
    "plt.xlabel(\"$x$\")\n",
    "plt.ylabel(\"$y$\")"
   ]
  },
  {
   "cell_type": "markdown",
   "metadata": {},
   "source": [
    "For the time derivative terms $\\mathbf{u}_t$ and $T_t$, we apply the first-order implicit Euler finite difference time discretization, i.e.\n",
    "\n",
    "\\begin{align*}\n",
    "    \\mathbf{u}_t = \\frac{\\mathbf{u}^{n+1} - \\mathbf{u}^n}{\\Delta t} \\\\\n",
    "    T_t = \\frac{T^{n+1} - T^n}{\\Delta t}\n",
    "\\end{align*}\n",
    "\n",
    "And we get a fully coupled (monolithic) system at each time step\n",
    "\n",
    "\\begin{align*} \n",
    "    \\nabla \\cdot \\mathbf{u}^{n+1} &= 0  \\\\\n",
    "    \\frac{1}{\\Delta t} \\mathbf{u}^{n+1}  + \\left( \\mathbf{u}^{n+1}\\cdot\\nabla \\right)\\mathbf{u}^{n+1} + \\nabla p - \\mu \\Delta \\mathbf{u}^{n+1} &= \\frac{1}{\\Delta t} \\mathbf{u}^n  \\\\\n",
    "    \\frac{1}{\\Delta t}T^{n+1}  + \\mathbf{u}^{n+1}\\cdot\\nabla T^{n+1} - \\kappa \\Delta T^{n+1} &= \\frac{1}{\\Delta t}T^{n}\n",
    "\\end{align*}\n",
    "\n",
    "|Note|\n",
    "|----|\n",
    "|For our implementation, we will use the shorthand $\\mathbf{w} = \\mathbf{w}^{n+1}= \\begin{pmatrix} p^{n+1} \\\\ \\mathbf{u}^{n+1} \\\\ T^{n+1}\\end{pmatrix}$. |\n",
    "\n",
    "Choose a time step size $\\Delta t$and set the time derivative terms."
   ]
  },
  {
   "cell_type": "code",
   "execution_count": 26,
   "metadata": {},
   "outputs": [],
   "source": [
    "timestep_size = 0.001\n",
    "dt = fenics.Constant(timestep_size)\n",
    "u_t = (u - u_n)/dt\n",
    "T_t = (T - T_n)/dt"
   ]
  },
  {
   "cell_type": "markdown",
   "metadata": {},
   "source": [
    "## Nonlinear variational form"
   ]
  },
  {
   "cell_type": "markdown",
   "metadata": {},
   "source": [
    "Multiply equations by suitable test funcions $\\psi_p, \\boldsymbol{\\psi}_u, \\psi_T$ and integrate over the domain. We obtain\n",
    "\n",
    "\\begin{align*} \n",
    "    ({\\psi}_p, \\nabla \\cdot \\mathbf{u}^{n+1}) &= 0  \\\\\n",
    "    \\frac{1}{\\Delta t}(\\boldsymbol{\\psi}_u, \\mathbf{u}^{n+1}) + \\left( \\boldsymbol{\\psi}_u,  ( \\mathbf{u}^{n+1}\\cdot\\nabla) \\mathbf{u}^{n+1} \\right) -(p^{n+1}, \\nabla \\cdot \\boldsymbol{\\psi}_u) + \\mu (\\nabla \\mathbf{u}^{n+1}, \\nabla \\boldsymbol{\\psi}_u) -  \\frac{1}{\\Delta t}(\\boldsymbol{\\psi}_u, \\mathbf{u}^{n}) &=0,\\\\\n",
    "       \\frac{1}{\\Delta t} ({\\psi}_T ,{T^{n+1}})  - (\\mathbf{u}^{n+1}\\cdot\\nabla \\psi_T, T^{n+1}) + \\kappa(\\nabla T^{n+1}, \\nabla \\psi_T) - \\frac{1}{\\Delta t} ({\\psi}_T ,{T^{n}}) &= 0,\n",
    "\\end{align*}\n",
    "where\n",
    "\\begin{align*}\n",
    "b( \\mathbf{u},\\mathbf{v},\\boldsymbol{\\psi}_u) &= \\left( ( \\mathbf{u}\\cdot\\nabla) \\mathbf{v}, \\boldsymbol{\\psi}_u \\right).\n",
    "\\end{align*}\n",
    "\n",
    "We can write the nonlinear system of equations as\n",
    "\n",
    "\\begin{equation*}\n",
    "\\mathbf{F}(\\mathbf{w}) = \\mathbf{0}.\n",
    "\\end{equation*}\n"
   ]
  },
  {
   "cell_type": "code",
   "execution_count": 27,
   "metadata": {},
   "outputs": [],
   "source": [
    "inner, dot, grad, div, sym = \\\n",
    "    fenics.inner, fenics.dot, fenics.grad, fenics.div, fenics.sym\n",
    "    \n",
    "mass = -psi_p*div(u)\n",
    "\n",
    "momentum = dot(psi_u, u_t + dot(grad(u), u)) - div(psi_u)*p \\\n",
    "    + 2.*(1./Re)*inner(sym(grad(psi_u)), sym(grad(u)))\n",
    "\n",
    "energy = psi_T*T_t + dot(grad(psi_T), kappa*grad(T) - T*u)\n",
    "\n",
    "F = (mass + momentum + energy )*fenics.dx"
   ]
  },
  {
   "cell_type": "code",
   "execution_count": 28,
   "metadata": {},
   "outputs": [],
   "source": [
    "# stationary part of the variational form\n",
    "F_stationary = (-psi_p*div(u)+\n",
    "                dot(psi_u, dot(grad(u), u)) - div(psi_u)*p \n",
    "                + 2.*(1./Re)*inner(sym(grad(psi_u)), sym(grad(u))) \n",
    "                + dot(grad(psi_T), kappa*grad(T) - T*u))*fenics.dx"
   ]
  },
  {
   "cell_type": "markdown",
   "metadata": {},
   "source": [
    "## Boundary conditions"
   ]
  },
  {
   "cell_type": "markdown",
   "metadata": {},
   "source": [
    "We need boundary conditions before we can define a nonlinear variational *problem* (i.e. in this case a boundary value problem).\n",
    "For the velocity, we consider the moving top lid \n",
    "\\begin{align*}\n",
    "    \\mathbf{u}(1,x_1) &= \n",
    "    \\begin{pmatrix} 1 \\\\ 0 \\end{pmatrix}, 0 \\leq x_1 \\leq L.\n",
    "\\end{align*}\n",
    "We physically consider *no slip* velocity boundary conditions for the orther boundaries. These manifest as homogeneous Dirichlet boundary conditions. For the temperature boundary conditions, we consider a constant hot temperature on the left wall, a constant cold temperature on the right wall, and adiabatic (i.e. zero heat transfer) conditions on the top and bottom walls. Because the problem's geometry is simple, we can identify the boundaries with the following piece-wise function.\n",
    "\n",
    "\\begin{align*}\n",
    "    T(\\mathbf{x}) &= \n",
    "    \\begin{cases}\n",
    "        T_h , && x_0 = 0, \\\\\n",
    "        T_c , && x_0 = L.\n",
    "    \\end{cases}\n",
    "\\end{align*}"
   ]
  },
  {
   "cell_type": "code",
   "execution_count": 29,
   "metadata": {},
   "outputs": [],
   "source": [
    "hot_wall = \"near(x[0],  0.)\" #x=0 \n",
    "\n",
    "cold_wall = \"near(x[0],\"+str(L)+\")\" #x= \\bar{x}\n",
    "\n",
    "top_wall = \"near(x[1],  1.)\" #y=1\n",
    "\n",
    "bottom_wall = \"near(x[1],  0.)\" #y=0\n",
    "\n",
    "walls = hot_wall + \" | \" + cold_wall + \" | \" + bottom_wall"
   ]
  },
  {
   "cell_type": "code",
   "execution_count": 30,
   "metadata": {},
   "outputs": [],
   "source": [
    "pressure_point = \"near(x[0],  0.) & (x[1]<= \"+str(hy)+\")\" #& near(x[1],  0.)"
   ]
  },
  {
   "cell_type": "markdown",
   "metadata": {},
   "source": [
    "Define the boundary conditions on the appropriate subspaces."
   ]
  },
  {
   "cell_type": "code",
   "execution_count": 31,
   "metadata": {},
   "outputs": [],
   "source": [
    "W_p = W.sub(0)\n",
    "# set velocity BC\n",
    "boundary_conditions = [fenics.DirichletBC(W_p, 0. , pressure_point)]"
   ]
  },
  {
   "cell_type": "code",
   "execution_count": 32,
   "metadata": {},
   "outputs": [],
   "source": [
    "# numbering starts at 0 -> W.sub(0) = W_p\n",
    "W_u = W.sub(1)\n",
    "# set velocity BC\n",
    "boundary_conditions.extend([fenics.DirichletBC(W_u, (0., 0.), walls), \n",
    "                       fenics.DirichletBC(W_u, (1., 0.), top_wall)])"
   ]
  },
  {
   "cell_type": "code",
   "execution_count": 33,
   "metadata": {},
   "outputs": [],
   "source": [
    "# set temperature BC\n",
    "\n",
    "W_T = W.sub(2)\n",
    "# set velocity BC\n",
    "boundary_conditions.extend([fenics.DirichletBC(W_T, hot_wall_temperature, hot_wall), \n",
    "                             fenics.DirichletBC(W_T, cold_wall_temperature, cold_wall)])\n"
   ]
  },
  {
   "cell_type": "code",
   "execution_count": 34,
   "metadata": {},
   "outputs": [
    {
     "data": {
      "text/plain": [
       "[<dolfin.fem.dirichletbc.DirichletBC at 0x7f5dd997d810>,\n",
       " <dolfin.fem.dirichletbc.DirichletBC at 0x7f5dd997d400>,\n",
       " <dolfin.fem.dirichletbc.DirichletBC at 0x7f5dd9982180>,\n",
       " <dolfin.fem.dirichletbc.DirichletBC at 0x7f5dd99823b0>,\n",
       " <dolfin.fem.dirichletbc.DirichletBC at 0x7f5dd9982a40>]"
      ]
     },
     "execution_count": 34,
     "metadata": {},
     "output_type": "execute_result"
    }
   ],
   "source": [
    "boundary_conditions"
   ]
  },
  {
   "cell_type": "markdown",
   "metadata": {},
   "source": [
    "## Nonlinear variational problem"
   ]
  },
  {
   "cell_type": "markdown",
   "metadata": {},
   "source": [
    "Now we have everything we need to solve the variational problem."
   ]
  },
  {
   "cell_type": "code",
   "execution_count": 35,
   "metadata": {},
   "outputs": [],
   "source": [
    "def plot_w(w, split = False):\n",
    "    \n",
    "    if split:\n",
    "        p, u, T = fenics.split(w.leaf_node())\n",
    "    else:\n",
    "        p, u, T  = w.split()   \n",
    "    \n",
    "    fig = fenics.plot(u)\n",
    "    plt.title(\"Velocity vector field\")\n",
    "    plt.xlabel(\"$x$\")\n",
    "    plt.ylabel(\"$y$\")    \n",
    "    plt.colorbar(fig)  \n",
    "    plt.show()\n",
    "\n",
    "    \n",
    "    fig = fenics.plot(p)\n",
    "    plt.title(\"Pressure field\")\n",
    "    plt.xlabel(\"$x$\")\n",
    "    plt.ylabel(\"$y$\")    \n",
    "    plt.colorbar(fig)    \n",
    "    plt.show()\n",
    "    \n",
    "    fig = fenics.plot(T)\n",
    "    plt.title(\"Temperature field\")\n",
    "    plt.xlabel(\"$x$\")\n",
    "    plt.ylabel(\"$y$\")    \n",
    "    plt.colorbar(fig)    \n",
    "    plt.show()\n",
    "    \n",
    "    return"
   ]
  },
  {
   "cell_type": "code",
   "execution_count": 36,
   "metadata": {},
   "outputs": [],
   "source": [
    "def solve_fom_fenics(reynolds=1., nt = 1, plot = True, constant = False):\n",
    "    \n",
    "    # set Reynolds\n",
    "    Re.assign(reynolds)\n",
    "    # set initial solutions\n",
    "    w_n = initial_condition(constant = constant)\n",
    "    #p_n, u_n, T_n = fenics.split(w_n)\n",
    "    # build output\n",
    "    solution_vec = np.zeros((w.leaf_node().vector()[:].size,nt))\n",
    "    \n",
    "    t = 0\n",
    "    for n in range(nt):\n",
    "\n",
    "        # Update current time\n",
    "        t += dt\n",
    "\n",
    "        #solve\n",
    "        fenics.solve(F == 0, w, bcs=boundary_conditions)\n",
    "\n",
    "        #append solution\n",
    "        solution_vec[:,n] = w.leaf_node().vector()[:].copy()\n",
    "        \n",
    "        # Update previous solution\n",
    "        w_n.assign(w)\n",
    "        if plot:\n",
    "            plot_w(w)\n",
    "        #endif\n",
    "    #end\n",
    "    \n",
    "    return solution_vec"
   ]
  },
  {
   "cell_type": "code",
   "execution_count": 37,
   "metadata": {},
   "outputs": [
    {
     "data": {
      "text/plain": [
       "True"
      ]
     },
     "execution_count": 37,
     "metadata": {},
     "output_type": "execute_result"
    }
   ],
   "source": [
    "parameters.has_parameter_set(\"form_compiler\")"
   ]
  },
  {
   "cell_type": "code",
   "execution_count": 38,
   "metadata": {},
   "outputs": [
    {
     "name": "stdout",
     "output_type": "stream",
     "text": [
      "Found different coefficients with same counts.\n",
      "The arguments found are:\n",
      "  f_1\n",
      "  f_21\n",
      "  f_1\n",
      "  f_10\n",
      "  f_0\n",
      "No Jacobian form specified for nonlinear variational problem.\n",
      "Differentiating residual form F to obtain Jacobian J = F'.\n"
     ]
    },
    {
     "ename": "UFLException",
     "evalue": "Found different coefficients with same counts.\nThe arguments found are:\n  f_1\n  f_21\n  f_1\n  f_10\n  f_0",
     "output_type": "error",
     "traceback": [
      "\u001b[0;31m---------------------------------------------------------------------------\u001b[0m",
      "\u001b[0;31mUFLException\u001b[0m                              Traceback (most recent call last)",
      "\u001b[0;32m/tmp/ipykernel_25021/146311898.py\u001b[0m in \u001b[0;36m<module>\u001b[0;34m\u001b[0m\n\u001b[0;32m----> 1\u001b[0;31m \u001b[0msol_fom_fe\u001b[0m \u001b[0;34m=\u001b[0m \u001b[0msolve_fom_fenics\u001b[0m\u001b[0;34m(\u001b[0m\u001b[0mreynolds\u001b[0m\u001b[0;34m=\u001b[0m\u001b[0;36m5.\u001b[0m\u001b[0;34m,\u001b[0m \u001b[0mnt\u001b[0m \u001b[0;34m=\u001b[0m \u001b[0;36m3\u001b[0m\u001b[0;34m)\u001b[0m\u001b[0;34m\u001b[0m\u001b[0;34m\u001b[0m\u001b[0m\n\u001b[0m",
      "\u001b[0;32m/tmp/ipykernel_25021/2961230942.py\u001b[0m in \u001b[0;36msolve_fom_fenics\u001b[0;34m(reynolds, nt, plot, constant)\u001b[0m\n\u001b[1;32m     16\u001b[0m \u001b[0;34m\u001b[0m\u001b[0m\n\u001b[1;32m     17\u001b[0m         \u001b[0;31m#solve\u001b[0m\u001b[0;34m\u001b[0m\u001b[0;34m\u001b[0m\u001b[0;34m\u001b[0m\u001b[0m\n\u001b[0;32m---> 18\u001b[0;31m         \u001b[0mfenics\u001b[0m\u001b[0;34m.\u001b[0m\u001b[0msolve\u001b[0m\u001b[0;34m(\u001b[0m\u001b[0mF\u001b[0m \u001b[0;34m==\u001b[0m \u001b[0;36m0\u001b[0m\u001b[0;34m,\u001b[0m \u001b[0mw\u001b[0m\u001b[0;34m,\u001b[0m \u001b[0mbcs\u001b[0m\u001b[0;34m=\u001b[0m\u001b[0mboundary_conditions\u001b[0m\u001b[0;34m)\u001b[0m\u001b[0;34m\u001b[0m\u001b[0;34m\u001b[0m\u001b[0m\n\u001b[0m\u001b[1;32m     19\u001b[0m \u001b[0;34m\u001b[0m\u001b[0m\n\u001b[1;32m     20\u001b[0m         \u001b[0;31m#append solution\u001b[0m\u001b[0;34m\u001b[0m\u001b[0;34m\u001b[0m\u001b[0;34m\u001b[0m\u001b[0m\n",
      "\u001b[0;32m~/.conda/envs/fenics_38/lib/python3.8/site-packages/dolfin/fem/solving.py\u001b[0m in \u001b[0;36msolve\u001b[0;34m(*args, **kwargs)\u001b[0m\n\u001b[1;32m    218\u001b[0m     \u001b[0;31m# tolerance)\u001b[0m\u001b[0;34m\u001b[0m\u001b[0;34m\u001b[0m\u001b[0;34m\u001b[0m\u001b[0m\n\u001b[1;32m    219\u001b[0m     \u001b[0;32melif\u001b[0m \u001b[0misinstance\u001b[0m\u001b[0;34m(\u001b[0m\u001b[0margs\u001b[0m\u001b[0;34m[\u001b[0m\u001b[0;36m0\u001b[0m\u001b[0;34m]\u001b[0m\u001b[0;34m,\u001b[0m \u001b[0mufl\u001b[0m\u001b[0;34m.\u001b[0m\u001b[0mclasses\u001b[0m\u001b[0;34m.\u001b[0m\u001b[0mEquation\u001b[0m\u001b[0;34m)\u001b[0m\u001b[0;34m:\u001b[0m\u001b[0;34m\u001b[0m\u001b[0;34m\u001b[0m\u001b[0m\n\u001b[0;32m--> 220\u001b[0;31m         \u001b[0m_solve_varproblem\u001b[0m\u001b[0;34m(\u001b[0m\u001b[0;34m*\u001b[0m\u001b[0margs\u001b[0m\u001b[0;34m,\u001b[0m \u001b[0;34m**\u001b[0m\u001b[0mkwargs\u001b[0m\u001b[0;34m)\u001b[0m\u001b[0;34m\u001b[0m\u001b[0;34m\u001b[0m\u001b[0m\n\u001b[0m\u001b[1;32m    221\u001b[0m \u001b[0;34m\u001b[0m\u001b[0m\n\u001b[1;32m    222\u001b[0m     \u001b[0;31m# Default case, just call the wrapped C++ solve function\u001b[0m\u001b[0;34m\u001b[0m\u001b[0;34m\u001b[0m\u001b[0;34m\u001b[0m\u001b[0m\n",
      "\u001b[0;32m~/.conda/envs/fenics_38/lib/python3.8/site-packages/dolfin/fem/solving.py\u001b[0m in \u001b[0;36m_solve_varproblem\u001b[0;34m(*args, **kwargs)\u001b[0m\n\u001b[1;32m    255\u001b[0m             \u001b[0mcpp\u001b[0m\u001b[0;34m.\u001b[0m\u001b[0mlog\u001b[0m\u001b[0;34m.\u001b[0m\u001b[0minfo\u001b[0m\u001b[0;34m(\u001b[0m\u001b[0;34m\"Differentiating residual form F to obtain Jacobian J = F'.\"\u001b[0m\u001b[0;34m)\u001b[0m\u001b[0;34m\u001b[0m\u001b[0;34m\u001b[0m\u001b[0m\n\u001b[1;32m    256\u001b[0m             \u001b[0mF\u001b[0m \u001b[0;34m=\u001b[0m \u001b[0meq\u001b[0m\u001b[0;34m.\u001b[0m\u001b[0mlhs\u001b[0m\u001b[0;34m\u001b[0m\u001b[0;34m\u001b[0m\u001b[0m\n\u001b[0;32m--> 257\u001b[0;31m             \u001b[0mJ\u001b[0m \u001b[0;34m=\u001b[0m \u001b[0mformmanipulations\u001b[0m\u001b[0;34m.\u001b[0m\u001b[0mderivative\u001b[0m\u001b[0;34m(\u001b[0m\u001b[0mF\u001b[0m\u001b[0;34m,\u001b[0m \u001b[0mu\u001b[0m\u001b[0;34m)\u001b[0m\u001b[0;34m\u001b[0m\u001b[0;34m\u001b[0m\u001b[0m\n\u001b[0m\u001b[1;32m    258\u001b[0m \u001b[0;34m\u001b[0m\u001b[0m\n\u001b[1;32m    259\u001b[0m         \u001b[0;31m# Create problem\u001b[0m\u001b[0;34m\u001b[0m\u001b[0;34m\u001b[0m\u001b[0;34m\u001b[0m\u001b[0m\n",
      "\u001b[0;32m~/.conda/envs/fenics_38/lib/python3.8/site-packages/dolfin/fem/formmanipulations.py\u001b[0m in \u001b[0;36mderivative\u001b[0;34m(form, u, du, coefficient_derivatives)\u001b[0m\n\u001b[1;32m     59\u001b[0m         \u001b[0;31m# Get existing arguments from form and position the new one\u001b[0m\u001b[0;34m\u001b[0m\u001b[0;34m\u001b[0m\u001b[0;34m\u001b[0m\u001b[0m\n\u001b[1;32m     60\u001b[0m         \u001b[0;31m# with the next argument number\u001b[0m\u001b[0;34m\u001b[0m\u001b[0;34m\u001b[0m\u001b[0;34m\u001b[0m\u001b[0m\n\u001b[0;32m---> 61\u001b[0;31m         \u001b[0mform_arguments\u001b[0m \u001b[0;34m=\u001b[0m \u001b[0mform\u001b[0m\u001b[0;34m.\u001b[0m\u001b[0marguments\u001b[0m\u001b[0;34m(\u001b[0m\u001b[0;34m)\u001b[0m\u001b[0;34m\u001b[0m\u001b[0;34m\u001b[0m\u001b[0m\n\u001b[0m\u001b[1;32m     62\u001b[0m \u001b[0;34m\u001b[0m\u001b[0m\n\u001b[1;32m     63\u001b[0m         \u001b[0mnumber\u001b[0m \u001b[0;34m=\u001b[0m \u001b[0mmax\u001b[0m\u001b[0;34m(\u001b[0m\u001b[0;34m[\u001b[0m\u001b[0;34m-\u001b[0m\u001b[0;36m1\u001b[0m\u001b[0;34m]\u001b[0m \u001b[0;34m+\u001b[0m \u001b[0;34m[\u001b[0m\u001b[0marg\u001b[0m\u001b[0;34m.\u001b[0m\u001b[0mnumber\u001b[0m\u001b[0;34m(\u001b[0m\u001b[0;34m)\u001b[0m \u001b[0;32mfor\u001b[0m \u001b[0marg\u001b[0m \u001b[0;32min\u001b[0m \u001b[0mform_arguments\u001b[0m\u001b[0;34m]\u001b[0m\u001b[0;34m)\u001b[0m \u001b[0;34m+\u001b[0m \u001b[0;36m1\u001b[0m\u001b[0;34m\u001b[0m\u001b[0;34m\u001b[0m\u001b[0m\n",
      "\u001b[0;32m~/.conda/envs/fenics_38/lib/python3.8/site-packages/ufl/form.py\u001b[0m in \u001b[0;36marguments\u001b[0;34m(self)\u001b[0m\n\u001b[1;32m    220\u001b[0m         \u001b[0;34m\"Return all ``Argument`` objects found in form.\"\u001b[0m\u001b[0;34m\u001b[0m\u001b[0;34m\u001b[0m\u001b[0m\n\u001b[1;32m    221\u001b[0m         \u001b[0;32mif\u001b[0m \u001b[0mself\u001b[0m\u001b[0;34m.\u001b[0m\u001b[0m_arguments\u001b[0m \u001b[0;32mis\u001b[0m \u001b[0;32mNone\u001b[0m\u001b[0;34m:\u001b[0m\u001b[0;34m\u001b[0m\u001b[0;34m\u001b[0m\u001b[0m\n\u001b[0;32m--> 222\u001b[0;31m             \u001b[0mself\u001b[0m\u001b[0;34m.\u001b[0m\u001b[0m_analyze_form_arguments\u001b[0m\u001b[0;34m(\u001b[0m\u001b[0;34m)\u001b[0m\u001b[0;34m\u001b[0m\u001b[0;34m\u001b[0m\u001b[0m\n\u001b[0m\u001b[1;32m    223\u001b[0m         \u001b[0;32mreturn\u001b[0m \u001b[0mself\u001b[0m\u001b[0;34m.\u001b[0m\u001b[0m_arguments\u001b[0m\u001b[0;34m\u001b[0m\u001b[0;34m\u001b[0m\u001b[0m\n\u001b[1;32m    224\u001b[0m \u001b[0;34m\u001b[0m\u001b[0m\n",
      "\u001b[0;32m~/.conda/envs/fenics_38/lib/python3.8/site-packages/ufl/form.py\u001b[0m in \u001b[0;36m_analyze_form_arguments\u001b[0;34m(self)\u001b[0m\n\u001b[1;32m    443\u001b[0m         \u001b[0;34m\"Analyze which Argument and Coefficient objects can be found in the form.\"\u001b[0m\u001b[0;34m\u001b[0m\u001b[0;34m\u001b[0m\u001b[0m\n\u001b[1;32m    444\u001b[0m         \u001b[0;32mfrom\u001b[0m \u001b[0mufl\u001b[0m\u001b[0;34m.\u001b[0m\u001b[0malgorithms\u001b[0m\u001b[0;34m.\u001b[0m\u001b[0manalysis\u001b[0m \u001b[0;32mimport\u001b[0m \u001b[0mextract_arguments_and_coefficients\u001b[0m\u001b[0;34m\u001b[0m\u001b[0;34m\u001b[0m\u001b[0m\n\u001b[0;32m--> 445\u001b[0;31m         \u001b[0marguments\u001b[0m\u001b[0;34m,\u001b[0m \u001b[0mcoefficients\u001b[0m \u001b[0;34m=\u001b[0m \u001b[0mextract_arguments_and_coefficients\u001b[0m\u001b[0;34m(\u001b[0m\u001b[0mself\u001b[0m\u001b[0;34m)\u001b[0m\u001b[0;34m\u001b[0m\u001b[0;34m\u001b[0m\u001b[0m\n\u001b[0m\u001b[1;32m    446\u001b[0m \u001b[0;34m\u001b[0m\u001b[0m\n\u001b[1;32m    447\u001b[0m         \u001b[0;31m# Define canonical numbering of arguments and coefficients\u001b[0m\u001b[0;34m\u001b[0m\u001b[0;34m\u001b[0m\u001b[0;34m\u001b[0m\u001b[0m\n",
      "\u001b[0;32m~/.conda/envs/fenics_38/lib/python3.8/site-packages/ufl/algorithms/analysis.py\u001b[0m in \u001b[0;36mextract_arguments_and_coefficients\u001b[0;34m(a)\u001b[0m\n\u001b[1;32m    138\u001b[0m \u001b[0mFound\u001b[0m \u001b[0mdifferent\u001b[0m \u001b[0mcoefficients\u001b[0m \u001b[0;32mwith\u001b[0m \u001b[0msame\u001b[0m \u001b[0mcounts\u001b[0m\u001b[0;34m.\u001b[0m\u001b[0;34m\u001b[0m\u001b[0;34m\u001b[0m\u001b[0m\n\u001b[1;32m    139\u001b[0m The arguments found are:\\n%s\"\"\" % \"\\n\".join(\"  %s\" % f for f in coefficients)\n\u001b[0;32m--> 140\u001b[0;31m         \u001b[0merror\u001b[0m\u001b[0;34m(\u001b[0m\u001b[0mmsg\u001b[0m\u001b[0;34m)\u001b[0m\u001b[0;34m\u001b[0m\u001b[0;34m\u001b[0m\u001b[0m\n\u001b[0m\u001b[1;32m    141\u001b[0m \u001b[0;34m\u001b[0m\u001b[0m\n\u001b[1;32m    142\u001b[0m     \u001b[0;31m# Passed checks, so we can safely sort the instances by count\u001b[0m\u001b[0;34m\u001b[0m\u001b[0;34m\u001b[0m\u001b[0;34m\u001b[0m\u001b[0m\n",
      "\u001b[0;32m~/.conda/envs/fenics_38/lib/python3.8/site-packages/ufl/log.py\u001b[0m in \u001b[0;36merror\u001b[0;34m(self, *message)\u001b[0m\n\u001b[1;32m    170\u001b[0m         \u001b[0;34m\"Write error message and raise an exception.\"\u001b[0m\u001b[0;34m\u001b[0m\u001b[0;34m\u001b[0m\u001b[0m\n\u001b[1;32m    171\u001b[0m         \u001b[0mself\u001b[0m\u001b[0;34m.\u001b[0m\u001b[0m_log\u001b[0m\u001b[0;34m.\u001b[0m\u001b[0merror\u001b[0m\u001b[0;34m(\u001b[0m\u001b[0;34m*\u001b[0m\u001b[0mmessage\u001b[0m\u001b[0;34m)\u001b[0m\u001b[0;34m\u001b[0m\u001b[0;34m\u001b[0m\u001b[0m\n\u001b[0;32m--> 172\u001b[0;31m         \u001b[0;32mraise\u001b[0m \u001b[0mself\u001b[0m\u001b[0;34m.\u001b[0m\u001b[0m_exception_type\u001b[0m\u001b[0;34m(\u001b[0m\u001b[0mself\u001b[0m\u001b[0;34m.\u001b[0m\u001b[0m_format_raw\u001b[0m\u001b[0;34m(\u001b[0m\u001b[0;34m*\u001b[0m\u001b[0mmessage\u001b[0m\u001b[0;34m)\u001b[0m\u001b[0;34m)\u001b[0m\u001b[0;34m\u001b[0m\u001b[0;34m\u001b[0m\u001b[0m\n\u001b[0m\u001b[1;32m    173\u001b[0m \u001b[0;34m\u001b[0m\u001b[0m\n\u001b[1;32m    174\u001b[0m     \u001b[0;32mdef\u001b[0m \u001b[0mbegin\u001b[0m\u001b[0;34m(\u001b[0m\u001b[0mself\u001b[0m\u001b[0;34m,\u001b[0m \u001b[0;34m*\u001b[0m\u001b[0mmessage\u001b[0m\u001b[0;34m)\u001b[0m\u001b[0;34m:\u001b[0m\u001b[0;34m\u001b[0m\u001b[0;34m\u001b[0m\u001b[0m\n",
      "\u001b[0;31mUFLException\u001b[0m: Found different coefficients with same counts.\nThe arguments found are:\n  f_1\n  f_21\n  f_1\n  f_10\n  f_0"
     ]
    }
   ],
   "source": [
    "sol_fom_fe = solve_fom_fenics(reynolds=5., nt = 3)"
   ]
  },
  {
   "cell_type": "code",
   "execution_count": 39,
   "metadata": {},
   "outputs": [
    {
     "name": "stdout",
     "output_type": "stream",
     "text": [
      "None\n"
     ]
    }
   ],
   "source": [
    "#sol_fom_fe = solve_fom_fenics(reynolds=5., nt = 3)\n",
    "import dolfin.fem.formmanipulations as formmanipulations\n",
    "#J = formmanipulations.derivative(F,w)\n",
    "#F.arguments()\n",
    "print(F._arguments)"
   ]
  },
  {
   "cell_type": "code",
   "execution_count": 40,
   "metadata": {},
   "outputs": [
    {
     "name": "stdout",
     "output_type": "stream",
     "text": [
      "Found different coefficients with same counts.\n",
      "The arguments found are:\n",
      "  f_1\n",
      "  f_21\n",
      "  f_1\n",
      "  f_10\n",
      "  f_0\n"
     ]
    },
    {
     "ename": "UFLException",
     "evalue": "Found different coefficients with same counts.\nThe arguments found are:\n  f_1\n  f_21\n  f_1\n  f_10\n  f_0",
     "output_type": "error",
     "traceback": [
      "\u001b[0;31m---------------------------------------------------------------------------\u001b[0m",
      "\u001b[0;31mUFLException\u001b[0m                              Traceback (most recent call last)",
      "\u001b[0;32m/tmp/ipykernel_25021/452702547.py\u001b[0m in \u001b[0;36m<module>\u001b[0;34m\u001b[0m\n\u001b[1;32m      1\u001b[0m \u001b[0;32mfrom\u001b[0m \u001b[0mufl\u001b[0m\u001b[0;34m.\u001b[0m\u001b[0malgorithms\u001b[0m\u001b[0;34m.\u001b[0m\u001b[0manalysis\u001b[0m \u001b[0;32mimport\u001b[0m \u001b[0mextract_arguments_and_coefficients\u001b[0m\u001b[0;34m,\u001b[0m \u001b[0mextract_type\u001b[0m\u001b[0;34m,\u001b[0m \u001b[0mextract_coefficients\u001b[0m\u001b[0;34m\u001b[0m\u001b[0;34m\u001b[0m\u001b[0m\n\u001b[0;32m----> 2\u001b[0;31m \u001b[0marguments\u001b[0m\u001b[0;34m,\u001b[0m \u001b[0mcoefficients\u001b[0m \u001b[0;34m=\u001b[0m \u001b[0mextract_arguments_and_coefficients\u001b[0m\u001b[0;34m(\u001b[0m\u001b[0mF\u001b[0m\u001b[0;34m)\u001b[0m\u001b[0;34m\u001b[0m\u001b[0;34m\u001b[0m\u001b[0m\n\u001b[0m\u001b[1;32m      3\u001b[0m \u001b[0mprint\u001b[0m\u001b[0;34m(\u001b[0m\u001b[0marguments\u001b[0m\u001b[0;34m)\u001b[0m\u001b[0;34m\u001b[0m\u001b[0;34m\u001b[0m\u001b[0m\n",
      "\u001b[0;32m~/.conda/envs/fenics_38/lib/python3.8/site-packages/ufl/algorithms/analysis.py\u001b[0m in \u001b[0;36mextract_arguments_and_coefficients\u001b[0;34m(a)\u001b[0m\n\u001b[1;32m    138\u001b[0m \u001b[0mFound\u001b[0m \u001b[0mdifferent\u001b[0m \u001b[0mcoefficients\u001b[0m \u001b[0;32mwith\u001b[0m \u001b[0msame\u001b[0m \u001b[0mcounts\u001b[0m\u001b[0;34m.\u001b[0m\u001b[0;34m\u001b[0m\u001b[0;34m\u001b[0m\u001b[0m\n\u001b[1;32m    139\u001b[0m The arguments found are:\\n%s\"\"\" % \"\\n\".join(\"  %s\" % f for f in coefficients)\n\u001b[0;32m--> 140\u001b[0;31m         \u001b[0merror\u001b[0m\u001b[0;34m(\u001b[0m\u001b[0mmsg\u001b[0m\u001b[0;34m)\u001b[0m\u001b[0;34m\u001b[0m\u001b[0;34m\u001b[0m\u001b[0m\n\u001b[0m\u001b[1;32m    141\u001b[0m \u001b[0;34m\u001b[0m\u001b[0m\n\u001b[1;32m    142\u001b[0m     \u001b[0;31m# Passed checks, so we can safely sort the instances by count\u001b[0m\u001b[0;34m\u001b[0m\u001b[0;34m\u001b[0m\u001b[0;34m\u001b[0m\u001b[0m\n",
      "\u001b[0;32m~/.conda/envs/fenics_38/lib/python3.8/site-packages/ufl/log.py\u001b[0m in \u001b[0;36merror\u001b[0;34m(self, *message)\u001b[0m\n\u001b[1;32m    170\u001b[0m         \u001b[0;34m\"Write error message and raise an exception.\"\u001b[0m\u001b[0;34m\u001b[0m\u001b[0;34m\u001b[0m\u001b[0m\n\u001b[1;32m    171\u001b[0m         \u001b[0mself\u001b[0m\u001b[0;34m.\u001b[0m\u001b[0m_log\u001b[0m\u001b[0;34m.\u001b[0m\u001b[0merror\u001b[0m\u001b[0;34m(\u001b[0m\u001b[0;34m*\u001b[0m\u001b[0mmessage\u001b[0m\u001b[0;34m)\u001b[0m\u001b[0;34m\u001b[0m\u001b[0;34m\u001b[0m\u001b[0m\n\u001b[0;32m--> 172\u001b[0;31m         \u001b[0;32mraise\u001b[0m \u001b[0mself\u001b[0m\u001b[0;34m.\u001b[0m\u001b[0m_exception_type\u001b[0m\u001b[0;34m(\u001b[0m\u001b[0mself\u001b[0m\u001b[0;34m.\u001b[0m\u001b[0m_format_raw\u001b[0m\u001b[0;34m(\u001b[0m\u001b[0;34m*\u001b[0m\u001b[0mmessage\u001b[0m\u001b[0;34m)\u001b[0m\u001b[0;34m)\u001b[0m\u001b[0;34m\u001b[0m\u001b[0;34m\u001b[0m\u001b[0m\n\u001b[0m\u001b[1;32m    173\u001b[0m \u001b[0;34m\u001b[0m\u001b[0m\n\u001b[1;32m    174\u001b[0m     \u001b[0;32mdef\u001b[0m \u001b[0mbegin\u001b[0m\u001b[0;34m(\u001b[0m\u001b[0mself\u001b[0m\u001b[0;34m,\u001b[0m \u001b[0;34m*\u001b[0m\u001b[0mmessage\u001b[0m\u001b[0;34m)\u001b[0m\u001b[0;34m:\u001b[0m\u001b[0;34m\u001b[0m\u001b[0;34m\u001b[0m\u001b[0m\n",
      "\u001b[0;31mUFLException\u001b[0m: Found different coefficients with same counts.\nThe arguments found are:\n  f_1\n  f_21\n  f_1\n  f_10\n  f_0"
     ]
    }
   ],
   "source": [
    "from ufl.algorithms.analysis import extract_arguments_and_coefficients, extract_type, extract_coefficients\n",
    "arguments, coefficients = extract_arguments_and_coefficients(F)\n",
    "print(arguments)"
   ]
  },
  {
   "cell_type": "code",
   "execution_count": 69,
   "metadata": {},
   "outputs": [],
   "source": [
    "coefficients = extract_coefficients(F)"
   ]
  },
  {
   "cell_type": "code",
   "execution_count": 70,
   "metadata": {},
   "outputs": [
    {
     "data": {
      "text/plain": [
       "[Coefficient(FunctionSpace(None, FiniteElement('Real', None, 0)), 0),\n",
       " Coefficient(FunctionSpace(Mesh(VectorElement(FiniteElement('Lagrange', triangle, 1), dim=2), 5), MixedElement(FiniteElement('Lagrange', triangle, 1), VectorElement(FiniteElement('Lagrange', triangle, 2), dim=2), FiniteElement('Lagrange', triangle, 1))), 1),\n",
       " Coefficient(FunctionSpace(None, FiniteElement('Real', None, 0)), 1),\n",
       " Coefficient(FunctionSpace(Mesh(VectorElement(FiniteElement('Lagrange', triangle, 1), dim=2), 5), MixedElement(FiniteElement('Lagrange', triangle, 1), VectorElement(FiniteElement('Lagrange', triangle, 2), dim=2), FiniteElement('Lagrange', triangle, 1))), 10),\n",
       " Coefficient(FunctionSpace(None, FiniteElement('Real', None, 0)), 21)]"
      ]
     },
     "execution_count": 70,
     "metadata": {},
     "output_type": "execute_result"
    }
   ],
   "source": [
    "coefficients"
   ]
  },
  {
   "cell_type": "code",
   "execution_count": 44,
   "metadata": {},
   "outputs": [
    {
     "name": "stdout",
     "output_type": "stream",
     "text": [
      "Found different coefficients with same counts.\n",
      "The arguments found are:\n",
      "  f_1\n",
      "  f_21\n",
      "  f_1\n",
      "  f_10\n",
      "  f_0\n"
     ]
    },
    {
     "ename": "UFLException",
     "evalue": "Found different coefficients with same counts.\nThe arguments found are:\n  f_1\n  f_21\n  f_1\n  f_10\n  f_0",
     "output_type": "error",
     "traceback": [
      "\u001b[0;31m---------------------------------------------------------------------------\u001b[0m",
      "\u001b[0;31mUFLException\u001b[0m                              Traceback (most recent call last)",
      "\u001b[0;32m/tmp/ipykernel_25021/3580623064.py\u001b[0m in \u001b[0;36m<module>\u001b[0;34m\u001b[0m\n\u001b[0;32m----> 1\u001b[0;31m \u001b[0mF\u001b[0m\u001b[0;34m.\u001b[0m\u001b[0marguments\u001b[0m\u001b[0;34m(\u001b[0m\u001b[0;34m)\u001b[0m\u001b[0;34m\u001b[0m\u001b[0;34m\u001b[0m\u001b[0m\n\u001b[0m",
      "\u001b[0;32m~/.conda/envs/fenics_38/lib/python3.8/site-packages/ufl/form.py\u001b[0m in \u001b[0;36marguments\u001b[0;34m(self)\u001b[0m\n\u001b[1;32m    220\u001b[0m         \u001b[0;34m\"Return all ``Argument`` objects found in form.\"\u001b[0m\u001b[0;34m\u001b[0m\u001b[0;34m\u001b[0m\u001b[0m\n\u001b[1;32m    221\u001b[0m         \u001b[0;32mif\u001b[0m \u001b[0mself\u001b[0m\u001b[0;34m.\u001b[0m\u001b[0m_arguments\u001b[0m \u001b[0;32mis\u001b[0m \u001b[0;32mNone\u001b[0m\u001b[0;34m:\u001b[0m\u001b[0;34m\u001b[0m\u001b[0;34m\u001b[0m\u001b[0m\n\u001b[0;32m--> 222\u001b[0;31m             \u001b[0mself\u001b[0m\u001b[0;34m.\u001b[0m\u001b[0m_analyze_form_arguments\u001b[0m\u001b[0;34m(\u001b[0m\u001b[0;34m)\u001b[0m\u001b[0;34m\u001b[0m\u001b[0;34m\u001b[0m\u001b[0m\n\u001b[0m\u001b[1;32m    223\u001b[0m         \u001b[0;32mreturn\u001b[0m \u001b[0mself\u001b[0m\u001b[0;34m.\u001b[0m\u001b[0m_arguments\u001b[0m\u001b[0;34m\u001b[0m\u001b[0;34m\u001b[0m\u001b[0m\n\u001b[1;32m    224\u001b[0m \u001b[0;34m\u001b[0m\u001b[0m\n",
      "\u001b[0;32m~/.conda/envs/fenics_38/lib/python3.8/site-packages/ufl/form.py\u001b[0m in \u001b[0;36m_analyze_form_arguments\u001b[0;34m(self)\u001b[0m\n\u001b[1;32m    443\u001b[0m         \u001b[0;34m\"Analyze which Argument and Coefficient objects can be found in the form.\"\u001b[0m\u001b[0;34m\u001b[0m\u001b[0;34m\u001b[0m\u001b[0m\n\u001b[1;32m    444\u001b[0m         \u001b[0;32mfrom\u001b[0m \u001b[0mufl\u001b[0m\u001b[0;34m.\u001b[0m\u001b[0malgorithms\u001b[0m\u001b[0;34m.\u001b[0m\u001b[0manalysis\u001b[0m \u001b[0;32mimport\u001b[0m \u001b[0mextract_arguments_and_coefficients\u001b[0m\u001b[0;34m\u001b[0m\u001b[0;34m\u001b[0m\u001b[0m\n\u001b[0;32m--> 445\u001b[0;31m         \u001b[0marguments\u001b[0m\u001b[0;34m,\u001b[0m \u001b[0mcoefficients\u001b[0m \u001b[0;34m=\u001b[0m \u001b[0mextract_arguments_and_coefficients\u001b[0m\u001b[0;34m(\u001b[0m\u001b[0mself\u001b[0m\u001b[0;34m)\u001b[0m\u001b[0;34m\u001b[0m\u001b[0;34m\u001b[0m\u001b[0m\n\u001b[0m\u001b[1;32m    446\u001b[0m \u001b[0;34m\u001b[0m\u001b[0m\n\u001b[1;32m    447\u001b[0m         \u001b[0;31m# Define canonical numbering of arguments and coefficients\u001b[0m\u001b[0;34m\u001b[0m\u001b[0;34m\u001b[0m\u001b[0;34m\u001b[0m\u001b[0m\n",
      "\u001b[0;32m~/.conda/envs/fenics_38/lib/python3.8/site-packages/ufl/algorithms/analysis.py\u001b[0m in \u001b[0;36mextract_arguments_and_coefficients\u001b[0;34m(a)\u001b[0m\n\u001b[1;32m    138\u001b[0m \u001b[0mFound\u001b[0m \u001b[0mdifferent\u001b[0m \u001b[0mcoefficients\u001b[0m \u001b[0;32mwith\u001b[0m \u001b[0msame\u001b[0m \u001b[0mcounts\u001b[0m\u001b[0;34m.\u001b[0m\u001b[0;34m\u001b[0m\u001b[0;34m\u001b[0m\u001b[0m\n\u001b[1;32m    139\u001b[0m The arguments found are:\\n%s\"\"\" % \"\\n\".join(\"  %s\" % f for f in coefficients)\n\u001b[0;32m--> 140\u001b[0;31m         \u001b[0merror\u001b[0m\u001b[0;34m(\u001b[0m\u001b[0mmsg\u001b[0m\u001b[0;34m)\u001b[0m\u001b[0;34m\u001b[0m\u001b[0;34m\u001b[0m\u001b[0m\n\u001b[0m\u001b[1;32m    141\u001b[0m \u001b[0;34m\u001b[0m\u001b[0m\n\u001b[1;32m    142\u001b[0m     \u001b[0;31m# Passed checks, so we can safely sort the instances by count\u001b[0m\u001b[0;34m\u001b[0m\u001b[0;34m\u001b[0m\u001b[0;34m\u001b[0m\u001b[0m\n",
      "\u001b[0;32m~/.conda/envs/fenics_38/lib/python3.8/site-packages/ufl/log.py\u001b[0m in \u001b[0;36merror\u001b[0;34m(self, *message)\u001b[0m\n\u001b[1;32m    170\u001b[0m         \u001b[0;34m\"Write error message and raise an exception.\"\u001b[0m\u001b[0;34m\u001b[0m\u001b[0;34m\u001b[0m\u001b[0m\n\u001b[1;32m    171\u001b[0m         \u001b[0mself\u001b[0m\u001b[0;34m.\u001b[0m\u001b[0m_log\u001b[0m\u001b[0;34m.\u001b[0m\u001b[0merror\u001b[0m\u001b[0;34m(\u001b[0m\u001b[0;34m*\u001b[0m\u001b[0mmessage\u001b[0m\u001b[0;34m)\u001b[0m\u001b[0;34m\u001b[0m\u001b[0;34m\u001b[0m\u001b[0m\n\u001b[0;32m--> 172\u001b[0;31m         \u001b[0;32mraise\u001b[0m \u001b[0mself\u001b[0m\u001b[0;34m.\u001b[0m\u001b[0m_exception_type\u001b[0m\u001b[0;34m(\u001b[0m\u001b[0mself\u001b[0m\u001b[0;34m.\u001b[0m\u001b[0m_format_raw\u001b[0m\u001b[0;34m(\u001b[0m\u001b[0;34m*\u001b[0m\u001b[0mmessage\u001b[0m\u001b[0;34m)\u001b[0m\u001b[0;34m)\u001b[0m\u001b[0;34m\u001b[0m\u001b[0;34m\u001b[0m\u001b[0m\n\u001b[0m\u001b[1;32m    173\u001b[0m \u001b[0;34m\u001b[0m\u001b[0m\n\u001b[1;32m    174\u001b[0m     \u001b[0;32mdef\u001b[0m \u001b[0mbegin\u001b[0m\u001b[0;34m(\u001b[0m\u001b[0mself\u001b[0m\u001b[0;34m,\u001b[0m \u001b[0;34m*\u001b[0m\u001b[0mmessage\u001b[0m\u001b[0;34m)\u001b[0m\u001b[0;34m:\u001b[0m\u001b[0;34m\u001b[0m\u001b[0;34m\u001b[0m\u001b[0m\n",
      "\u001b[0;31mUFLException\u001b[0m: Found different coefficients with same counts.\nThe arguments found are:\n  f_1\n  f_21\n  f_1\n  f_10\n  f_0"
     ]
    }
   ],
   "source": [
    "F.arguments()"
   ]
  },
  {
   "cell_type": "code",
   "execution_count": 45,
   "metadata": {},
   "outputs": [
    {
     "data": {
      "text/plain": [
       "(Indexed(Coefficient(FunctionSpace(Mesh(VectorElement(FiniteElement('Lagrange', triangle, 1), dim=2), 5), MixedElement(FiniteElement('Lagrange', triangle, 1), VectorElement(FiniteElement('Lagrange', triangle, 2), dim=2), FiniteElement('Lagrange', triangle, 1))), 43), MultiIndex((FixedIndex(0),))),\n",
       " ListTensor(Indexed(Coefficient(FunctionSpace(Mesh(VectorElement(FiniteElement('Lagrange', triangle, 1), dim=2), 5), MixedElement(FiniteElement('Lagrange', triangle, 1), VectorElement(FiniteElement('Lagrange', triangle, 2), dim=2), FiniteElement('Lagrange', triangle, 1))), 43), MultiIndex((FixedIndex(1),))), Indexed(Coefficient(FunctionSpace(Mesh(VectorElement(FiniteElement('Lagrange', triangle, 1), dim=2), 5), MixedElement(FiniteElement('Lagrange', triangle, 1), VectorElement(FiniteElement('Lagrange', triangle, 2), dim=2), FiniteElement('Lagrange', triangle, 1))), 43), MultiIndex((FixedIndex(2),)))),\n",
       " Indexed(Coefficient(FunctionSpace(Mesh(VectorElement(FiniteElement('Lagrange', triangle, 1), dim=2), 5), MixedElement(FiniteElement('Lagrange', triangle, 1), VectorElement(FiniteElement('Lagrange', triangle, 2), dim=2), FiniteElement('Lagrange', triangle, 1))), 43), MultiIndex((FixedIndex(3),))))"
      ]
     },
     "execution_count": 45,
     "metadata": {},
     "output_type": "execute_result"
    }
   ],
   "source": [
    "ufl.Coefficients(W)"
   ]
  },
  {
   "cell_type": "code",
   "execution_count": 48,
   "metadata": {},
   "outputs": [],
   "source": [
    "from pymor.tools.formatsrc import print_source"
   ]
  },
  {
   "cell_type": "code",
   "execution_count": 51,
   "metadata": {},
   "outputs": [],
   "source": [
    "from ufl.core.terminal import Terminal, FormArgument"
   ]
  },
  {
   "cell_type": "code",
   "execution_count": 52,
   "metadata": {},
   "outputs": [
    {
     "data": {
      "text/html": [
       "<style>pre { line-height: 125%; }\n",
       "td.linenos .normal { color: inherit; background-color: transparent; padding-left: 5px; padding-right: 5px; }\n",
       "span.linenos { color: inherit; background-color: transparent; padding-left: 5px; padding-right: 5px; }\n",
       "td.linenos .special { color: #000000; background-color: #ffffc0; padding-left: 5px; padding-right: 5px; }\n",
       "span.linenos.special { color: #000000; background-color: #ffffc0; padding-left: 5px; padding-right: 5px; }\n",
       ".output_html .hll { background-color: #ffffcc }\n",
       ".output_html { background: #f8f8f8; }\n",
       ".output_html .c { color: #408080; font-style: italic } /* Comment */\n",
       ".output_html .err { border: 1px solid #FF0000 } /* Error */\n",
       ".output_html .k { color: #008000; font-weight: bold } /* Keyword */\n",
       ".output_html .o { color: #666666 } /* Operator */\n",
       ".output_html .ch { color: #408080; font-style: italic } /* Comment.Hashbang */\n",
       ".output_html .cm { color: #408080; font-style: italic } /* Comment.Multiline */\n",
       ".output_html .cp { color: #BC7A00 } /* Comment.Preproc */\n",
       ".output_html .cpf { color: #408080; font-style: italic } /* Comment.PreprocFile */\n",
       ".output_html .c1 { color: #408080; font-style: italic } /* Comment.Single */\n",
       ".output_html .cs { color: #408080; font-style: italic } /* Comment.Special */\n",
       ".output_html .gd { color: #A00000 } /* Generic.Deleted */\n",
       ".output_html .ge { font-style: italic } /* Generic.Emph */\n",
       ".output_html .gr { color: #FF0000 } /* Generic.Error */\n",
       ".output_html .gh { color: #000080; font-weight: bold } /* Generic.Heading */\n",
       ".output_html .gi { color: #00A000 } /* Generic.Inserted */\n",
       ".output_html .go { color: #888888 } /* Generic.Output */\n",
       ".output_html .gp { color: #000080; font-weight: bold } /* Generic.Prompt */\n",
       ".output_html .gs { font-weight: bold } /* Generic.Strong */\n",
       ".output_html .gu { color: #800080; font-weight: bold } /* Generic.Subheading */\n",
       ".output_html .gt { color: #0044DD } /* Generic.Traceback */\n",
       ".output_html .kc { color: #008000; font-weight: bold } /* Keyword.Constant */\n",
       ".output_html .kd { color: #008000; font-weight: bold } /* Keyword.Declaration */\n",
       ".output_html .kn { color: #008000; font-weight: bold } /* Keyword.Namespace */\n",
       ".output_html .kp { color: #008000 } /* Keyword.Pseudo */\n",
       ".output_html .kr { color: #008000; font-weight: bold } /* Keyword.Reserved */\n",
       ".output_html .kt { color: #B00040 } /* Keyword.Type */\n",
       ".output_html .m { color: #666666 } /* Literal.Number */\n",
       ".output_html .s { color: #BA2121 } /* Literal.String */\n",
       ".output_html .na { color: #7D9029 } /* Name.Attribute */\n",
       ".output_html .nb { color: #008000 } /* Name.Builtin */\n",
       ".output_html .nc { color: #0000FF; font-weight: bold } /* Name.Class */\n",
       ".output_html .no { color: #880000 } /* Name.Constant */\n",
       ".output_html .nd { color: #AA22FF } /* Name.Decorator */\n",
       ".output_html .ni { color: #999999; font-weight: bold } /* Name.Entity */\n",
       ".output_html .ne { color: #D2413A; font-weight: bold } /* Name.Exception */\n",
       ".output_html .nf { color: #0000FF } /* Name.Function */\n",
       ".output_html .nl { color: #A0A000 } /* Name.Label */\n",
       ".output_html .nn { color: #0000FF; font-weight: bold } /* Name.Namespace */\n",
       ".output_html .nt { color: #008000; font-weight: bold } /* Name.Tag */\n",
       ".output_html .nv { color: #19177C } /* Name.Variable */\n",
       ".output_html .ow { color: #AA22FF; font-weight: bold } /* Operator.Word */\n",
       ".output_html .w { color: #bbbbbb } /* Text.Whitespace */\n",
       ".output_html .mb { color: #666666 } /* Literal.Number.Bin */\n",
       ".output_html .mf { color: #666666 } /* Literal.Number.Float */\n",
       ".output_html .mh { color: #666666 } /* Literal.Number.Hex */\n",
       ".output_html .mi { color: #666666 } /* Literal.Number.Integer */\n",
       ".output_html .mo { color: #666666 } /* Literal.Number.Oct */\n",
       ".output_html .sa { color: #BA2121 } /* Literal.String.Affix */\n",
       ".output_html .sb { color: #BA2121 } /* Literal.String.Backtick */\n",
       ".output_html .sc { color: #BA2121 } /* Literal.String.Char */\n",
       ".output_html .dl { color: #BA2121 } /* Literal.String.Delimiter */\n",
       ".output_html .sd { color: #BA2121; font-style: italic } /* Literal.String.Doc */\n",
       ".output_html .s2 { color: #BA2121 } /* Literal.String.Double */\n",
       ".output_html .se { color: #BB6622; font-weight: bold } /* Literal.String.Escape */\n",
       ".output_html .sh { color: #BA2121 } /* Literal.String.Heredoc */\n",
       ".output_html .si { color: #BB6688; font-weight: bold } /* Literal.String.Interpol */\n",
       ".output_html .sx { color: #008000 } /* Literal.String.Other */\n",
       ".output_html .sr { color: #BB6688 } /* Literal.String.Regex */\n",
       ".output_html .s1 { color: #BA2121 } /* Literal.String.Single */\n",
       ".output_html .ss { color: #19177C } /* Literal.String.Symbol */\n",
       ".output_html .bp { color: #008000 } /* Name.Builtin.Pseudo */\n",
       ".output_html .fm { color: #0000FF } /* Name.Function.Magic */\n",
       ".output_html .vc { color: #19177C } /* Name.Variable.Class */\n",
       ".output_html .vg { color: #19177C } /* Name.Variable.Global */\n",
       ".output_html .vi { color: #19177C } /* Name.Variable.Instance */\n",
       ".output_html .vm { color: #19177C } /* Name.Variable.Magic */\n",
       ".output_html .il { color: #666666 } /* Literal.Number.Integer.Long */</style><div class=\"highlight\"><pre><span></span><span class=\"k\">def</span> <span class=\"nf\">extract_arguments_and_coefficients</span><span class=\"p\">(</span><span class=\"n\">a</span><span class=\"p\">):</span>\n",
       "    <span class=\"sd\">&quot;&quot;&quot;Build two sorted lists of all arguments and coefficients</span>\n",
       "<span class=\"sd\">    in a, which can be a Form, Integral or Expr.&quot;&quot;&quot;</span>\n",
       "\n",
       "    <span class=\"c1\"># This function is faster than extract_arguments + extract_coefficients</span>\n",
       "    <span class=\"c1\"># for large forms, and has more validation built in.</span>\n",
       "\n",
       "    <span class=\"c1\"># Extract lists of all form argument instances</span>\n",
       "    <span class=\"n\">terminals</span> <span class=\"o\">=</span> <span class=\"n\">extract_type</span><span class=\"p\">(</span><span class=\"n\">a</span><span class=\"p\">,</span> <span class=\"n\">FormArgument</span><span class=\"p\">)</span>\n",
       "    <span class=\"n\">arguments</span> <span class=\"o\">=</span> <span class=\"p\">[</span><span class=\"n\">f</span> <span class=\"k\">for</span> <span class=\"n\">f</span> <span class=\"ow\">in</span> <span class=\"n\">terminals</span> <span class=\"k\">if</span> <span class=\"nb\">isinstance</span><span class=\"p\">(</span><span class=\"n\">f</span><span class=\"p\">,</span> <span class=\"n\">Argument</span><span class=\"p\">)]</span>\n",
       "    <span class=\"n\">coefficients</span> <span class=\"o\">=</span> <span class=\"p\">[</span><span class=\"n\">f</span> <span class=\"k\">for</span> <span class=\"n\">f</span> <span class=\"ow\">in</span> <span class=\"n\">terminals</span> <span class=\"k\">if</span> <span class=\"nb\">isinstance</span><span class=\"p\">(</span><span class=\"n\">f</span><span class=\"p\">,</span> <span class=\"n\">Coefficient</span><span class=\"p\">)]</span>\n",
       "\n",
       "    <span class=\"c1\"># Build number,part: instance mappings, should be one to one</span>\n",
       "    <span class=\"n\">bfnp</span> <span class=\"o\">=</span> <span class=\"nb\">dict</span><span class=\"p\">((</span><span class=\"n\">f</span><span class=\"p\">,</span> <span class=\"p\">(</span><span class=\"n\">f</span><span class=\"o\">.</span><span class=\"n\">number</span><span class=\"p\">(),</span> <span class=\"n\">f</span><span class=\"o\">.</span><span class=\"n\">part</span><span class=\"p\">()))</span> <span class=\"k\">for</span> <span class=\"n\">f</span> <span class=\"ow\">in</span> <span class=\"n\">arguments</span><span class=\"p\">)</span>\n",
       "    <span class=\"k\">if</span> <span class=\"nb\">len</span><span class=\"p\">(</span><span class=\"n\">bfnp</span><span class=\"p\">)</span> <span class=\"o\">!=</span> <span class=\"nb\">len</span><span class=\"p\">(</span><span class=\"nb\">set</span><span class=\"p\">(</span><span class=\"n\">bfnp</span><span class=\"o\">.</span><span class=\"n\">values</span><span class=\"p\">())):</span>\n",
       "        <span class=\"n\">msg</span> <span class=\"o\">=</span> <span class=\"s2\">&quot;&quot;&quot;</span><span class=\"se\">\\</span>\n",
       "<span class=\"s2\">Found different Arguments with same number and part.</span>\n",
       "<span class=\"s2\">Did you combine test or trial functions from different spaces?</span>\n",
       "<span class=\"s2\">The Arguments found are:</span><span class=\"se\">\\n</span><span class=\"si\">%s</span><span class=\"s2\">&quot;&quot;&quot;</span> <span class=\"o\">%</span> <span class=\"s2\">&quot;</span><span class=\"se\">\\n</span><span class=\"s2\">&quot;</span><span class=\"o\">.</span><span class=\"n\">join</span><span class=\"p\">(</span><span class=\"s2\">&quot;  </span><span class=\"si\">%s</span><span class=\"s2\">&quot;</span> <span class=\"o\">%</span> <span class=\"n\">f</span> <span class=\"k\">for</span> <span class=\"n\">f</span> <span class=\"ow\">in</span> <span class=\"n\">arguments</span><span class=\"p\">)</span>\n",
       "        <span class=\"n\">error</span><span class=\"p\">(</span><span class=\"n\">msg</span><span class=\"p\">)</span>\n",
       "\n",
       "    <span class=\"c1\"># Build count: instance mappings, should be one to one</span>\n",
       "    <span class=\"n\">fcounts</span> <span class=\"o\">=</span> <span class=\"nb\">dict</span><span class=\"p\">((</span><span class=\"n\">f</span><span class=\"p\">,</span> <span class=\"n\">f</span><span class=\"o\">.</span><span class=\"n\">count</span><span class=\"p\">())</span> <span class=\"k\">for</span> <span class=\"n\">f</span> <span class=\"ow\">in</span> <span class=\"n\">coefficients</span><span class=\"p\">)</span>\n",
       "    <span class=\"k\">if</span> <span class=\"nb\">len</span><span class=\"p\">(</span><span class=\"n\">fcounts</span><span class=\"p\">)</span> <span class=\"o\">!=</span> <span class=\"nb\">len</span><span class=\"p\">(</span><span class=\"nb\">set</span><span class=\"p\">(</span><span class=\"n\">fcounts</span><span class=\"o\">.</span><span class=\"n\">values</span><span class=\"p\">())):</span>\n",
       "        <span class=\"n\">msg</span> <span class=\"o\">=</span> <span class=\"s2\">&quot;&quot;&quot;</span><span class=\"se\">\\</span>\n",
       "<span class=\"s2\">Found different coefficients with same counts.</span>\n",
       "<span class=\"s2\">The arguments found are:</span><span class=\"se\">\\n</span><span class=\"si\">%s</span><span class=\"s2\">&quot;&quot;&quot;</span> <span class=\"o\">%</span> <span class=\"s2\">&quot;</span><span class=\"se\">\\n</span><span class=\"s2\">&quot;</span><span class=\"o\">.</span><span class=\"n\">join</span><span class=\"p\">(</span><span class=\"s2\">&quot;  </span><span class=\"si\">%s</span><span class=\"s2\">&quot;</span> <span class=\"o\">%</span> <span class=\"n\">f</span> <span class=\"k\">for</span> <span class=\"n\">f</span> <span class=\"ow\">in</span> <span class=\"n\">coefficients</span><span class=\"p\">)</span>\n",
       "        <span class=\"n\">error</span><span class=\"p\">(</span><span class=\"n\">msg</span><span class=\"p\">)</span>\n",
       "\n",
       "    <span class=\"c1\"># Passed checks, so we can safely sort the instances by count</span>\n",
       "    <span class=\"n\">arguments</span> <span class=\"o\">=</span> <span class=\"n\">_sorted_by_number_and_part</span><span class=\"p\">(</span><span class=\"n\">arguments</span><span class=\"p\">)</span>\n",
       "    <span class=\"n\">coefficients</span> <span class=\"o\">=</span> <span class=\"n\">sorted_by_count</span><span class=\"p\">(</span><span class=\"n\">coefficients</span><span class=\"p\">)</span>\n",
       "\n",
       "    <span class=\"k\">return</span> <span class=\"n\">arguments</span><span class=\"p\">,</span> <span class=\"n\">coefficients</span>\n",
       "</pre></div>\n"
      ],
      "text/latex": [
       "\\begin{Verbatim}[commandchars=\\\\\\{\\}]\n",
       "\\PY{k}{def} \\PY{n+nf}{extract\\PYZus{}arguments\\PYZus{}and\\PYZus{}coefficients}\\PY{p}{(}\\PY{n}{a}\\PY{p}{)}\\PY{p}{:}\n",
       "    \\PY{l+s+sd}{\\PYZdq{}\\PYZdq{}\\PYZdq{}Build two sorted lists of all arguments and coefficients}\n",
       "\\PY{l+s+sd}{    in a, which can be a Form, Integral or Expr.\\PYZdq{}\\PYZdq{}\\PYZdq{}}\n",
       "\n",
       "    \\PY{c+c1}{\\PYZsh{} This function is faster than extract\\PYZus{}arguments + extract\\PYZus{}coefficients}\n",
       "    \\PY{c+c1}{\\PYZsh{} for large forms, and has more validation built in.}\n",
       "\n",
       "    \\PY{c+c1}{\\PYZsh{} Extract lists of all form argument instances}\n",
       "    \\PY{n}{terminals} \\PY{o}{=} \\PY{n}{extract\\PYZus{}type}\\PY{p}{(}\\PY{n}{a}\\PY{p}{,} \\PY{n}{FormArgument}\\PY{p}{)}\n",
       "    \\PY{n}{arguments} \\PY{o}{=} \\PY{p}{[}\\PY{n}{f} \\PY{k}{for} \\PY{n}{f} \\PY{o+ow}{in} \\PY{n}{terminals} \\PY{k}{if} \\PY{n+nb}{isinstance}\\PY{p}{(}\\PY{n}{f}\\PY{p}{,} \\PY{n}{Argument}\\PY{p}{)}\\PY{p}{]}\n",
       "    \\PY{n}{coefficients} \\PY{o}{=} \\PY{p}{[}\\PY{n}{f} \\PY{k}{for} \\PY{n}{f} \\PY{o+ow}{in} \\PY{n}{terminals} \\PY{k}{if} \\PY{n+nb}{isinstance}\\PY{p}{(}\\PY{n}{f}\\PY{p}{,} \\PY{n}{Coefficient}\\PY{p}{)}\\PY{p}{]}\n",
       "\n",
       "    \\PY{c+c1}{\\PYZsh{} Build number,part: instance mappings, should be one to one}\n",
       "    \\PY{n}{bfnp} \\PY{o}{=} \\PY{n+nb}{dict}\\PY{p}{(}\\PY{p}{(}\\PY{n}{f}\\PY{p}{,} \\PY{p}{(}\\PY{n}{f}\\PY{o}{.}\\PY{n}{number}\\PY{p}{(}\\PY{p}{)}\\PY{p}{,} \\PY{n}{f}\\PY{o}{.}\\PY{n}{part}\\PY{p}{(}\\PY{p}{)}\\PY{p}{)}\\PY{p}{)} \\PY{k}{for} \\PY{n}{f} \\PY{o+ow}{in} \\PY{n}{arguments}\\PY{p}{)}\n",
       "    \\PY{k}{if} \\PY{n+nb}{len}\\PY{p}{(}\\PY{n}{bfnp}\\PY{p}{)} \\PY{o}{!=} \\PY{n+nb}{len}\\PY{p}{(}\\PY{n+nb}{set}\\PY{p}{(}\\PY{n}{bfnp}\\PY{o}{.}\\PY{n}{values}\\PY{p}{(}\\PY{p}{)}\\PY{p}{)}\\PY{p}{)}\\PY{p}{:}\n",
       "        \\PY{n}{msg} \\PY{o}{=} \\PY{l+s+s2}{\\PYZdq{}\\PYZdq{}\\PYZdq{}}\\PY{l+s+se}{\\PYZbs{}}\n",
       "\\PY{l+s+s2}{Found different Arguments with same number and part.}\n",
       "\\PY{l+s+s2}{Did you combine test or trial functions from different spaces?}\n",
       "\\PY{l+s+s2}{The Arguments found are:}\\PY{l+s+se}{\\PYZbs{}n}\\PY{l+s+si}{\\PYZpc{}s}\\PY{l+s+s2}{\\PYZdq{}\\PYZdq{}\\PYZdq{}} \\PY{o}{\\PYZpc{}} \\PY{l+s+s2}{\\PYZdq{}}\\PY{l+s+se}{\\PYZbs{}n}\\PY{l+s+s2}{\\PYZdq{}}\\PY{o}{.}\\PY{n}{join}\\PY{p}{(}\\PY{l+s+s2}{\\PYZdq{}}\\PY{l+s+s2}{  }\\PY{l+s+si}{\\PYZpc{}s}\\PY{l+s+s2}{\\PYZdq{}} \\PY{o}{\\PYZpc{}} \\PY{n}{f} \\PY{k}{for} \\PY{n}{f} \\PY{o+ow}{in} \\PY{n}{arguments}\\PY{p}{)}\n",
       "        \\PY{n}{error}\\PY{p}{(}\\PY{n}{msg}\\PY{p}{)}\n",
       "\n",
       "    \\PY{c+c1}{\\PYZsh{} Build count: instance mappings, should be one to one}\n",
       "    \\PY{n}{fcounts} \\PY{o}{=} \\PY{n+nb}{dict}\\PY{p}{(}\\PY{p}{(}\\PY{n}{f}\\PY{p}{,} \\PY{n}{f}\\PY{o}{.}\\PY{n}{count}\\PY{p}{(}\\PY{p}{)}\\PY{p}{)} \\PY{k}{for} \\PY{n}{f} \\PY{o+ow}{in} \\PY{n}{coefficients}\\PY{p}{)}\n",
       "    \\PY{k}{if} \\PY{n+nb}{len}\\PY{p}{(}\\PY{n}{fcounts}\\PY{p}{)} \\PY{o}{!=} \\PY{n+nb}{len}\\PY{p}{(}\\PY{n+nb}{set}\\PY{p}{(}\\PY{n}{fcounts}\\PY{o}{.}\\PY{n}{values}\\PY{p}{(}\\PY{p}{)}\\PY{p}{)}\\PY{p}{)}\\PY{p}{:}\n",
       "        \\PY{n}{msg} \\PY{o}{=} \\PY{l+s+s2}{\\PYZdq{}\\PYZdq{}\\PYZdq{}}\\PY{l+s+se}{\\PYZbs{}}\n",
       "\\PY{l+s+s2}{Found different coefficients with same counts.}\n",
       "\\PY{l+s+s2}{The arguments found are:}\\PY{l+s+se}{\\PYZbs{}n}\\PY{l+s+si}{\\PYZpc{}s}\\PY{l+s+s2}{\\PYZdq{}\\PYZdq{}\\PYZdq{}} \\PY{o}{\\PYZpc{}} \\PY{l+s+s2}{\\PYZdq{}}\\PY{l+s+se}{\\PYZbs{}n}\\PY{l+s+s2}{\\PYZdq{}}\\PY{o}{.}\\PY{n}{join}\\PY{p}{(}\\PY{l+s+s2}{\\PYZdq{}}\\PY{l+s+s2}{  }\\PY{l+s+si}{\\PYZpc{}s}\\PY{l+s+s2}{\\PYZdq{}} \\PY{o}{\\PYZpc{}} \\PY{n}{f} \\PY{k}{for} \\PY{n}{f} \\PY{o+ow}{in} \\PY{n}{coefficients}\\PY{p}{)}\n",
       "        \\PY{n}{error}\\PY{p}{(}\\PY{n}{msg}\\PY{p}{)}\n",
       "\n",
       "    \\PY{c+c1}{\\PYZsh{} Passed checks, so we can safely sort the instances by count}\n",
       "    \\PY{n}{arguments} \\PY{o}{=} \\PY{n}{\\PYZus{}sorted\\PYZus{}by\\PYZus{}number\\PYZus{}and\\PYZus{}part}\\PY{p}{(}\\PY{n}{arguments}\\PY{p}{)}\n",
       "    \\PY{n}{coefficients} \\PY{o}{=} \\PY{n}{sorted\\PYZus{}by\\PYZus{}count}\\PY{p}{(}\\PY{n}{coefficients}\\PY{p}{)}\n",
       "\n",
       "    \\PY{k}{return} \\PY{n}{arguments}\\PY{p}{,} \\PY{n}{coefficients}\n",
       "\\end{Verbatim}\n"
      ],
      "text/plain": [
       "def extract_arguments_and_coefficients(a):\n",
       "    \"\"\"Build two sorted lists of all arguments and coefficients\n",
       "    in a, which can be a Form, Integral or Expr.\"\"\"\n",
       "\n",
       "    # This function is faster than extract_arguments + extract_coefficients\n",
       "    # for large forms, and has more validation built in.\n",
       "\n",
       "    # Extract lists of all form argument instances\n",
       "    terminals = extract_type(a, FormArgument)\n",
       "    arguments = [f for f in terminals if isinstance(f, Argument)]\n",
       "    coefficients = [f for f in terminals if isinstance(f, Coefficient)]\n",
       "\n",
       "    # Build number,part: instance mappings, should be one to one\n",
       "    bfnp = dict((f, (f.number(), f.part())) for f in arguments)\n",
       "    if len(bfnp) != len(set(bfnp.values())):\n",
       "        msg = \"\"\"\\\n",
       "Found different Arguments with same number and part.\n",
       "Did you combine test or trial functions from different spaces?\n",
       "The Arguments found are:\\n%s\"\"\" % \"\\n\".join(\"  %s\" % f for f in arguments)\n",
       "        error(msg)\n",
       "\n",
       "    # Build count: instance mappings, should be one to one\n",
       "    fcounts = dict((f, f.count()) for f in coefficients)\n",
       "    if len(fcounts) != len(set(fcounts.values())):\n",
       "        msg = \"\"\"\\\n",
       "Found different coefficients with same counts.\n",
       "The arguments found are:\\n%s\"\"\" % \"\\n\".join(\"  %s\" % f for f in coefficients)\n",
       "        error(msg)\n",
       "\n",
       "    # Passed checks, so we can safely sort the instances by count\n",
       "    arguments = _sorted_by_number_and_part(arguments)\n",
       "    coefficients = sorted_by_count(coefficients)\n",
       "\n",
       "    return arguments, coefficients"
      ]
     },
     "metadata": {},
     "output_type": "display_data"
    }
   ],
   "source": [
    "print_source(extract_arguments_and_coefficients)"
   ]
  },
  {
   "cell_type": "code",
   "execution_count": 56,
   "metadata": {},
   "outputs": [],
   "source": [
    "from ufl.argument import Argument\n",
    "from ufl.coefficient import Coefficient"
   ]
  },
  {
   "cell_type": "code",
   "execution_count": 84,
   "metadata": {},
   "outputs": [],
   "source": [
    "from ufl.algorithms.traversal import iter_expressions\n",
    "from ufl.corealg.traversal import unique_pre_traversal, traverse_unique_terminals"
   ]
  },
  {
   "cell_type": "code",
   "execution_count": 86,
   "metadata": {},
   "outputs": [
    {
     "name": "stdout",
     "output_type": "stream",
     "text": [
      "<generator object iter_expressions.<locals>.<genexpr> at 0x7efb85109970>\n"
     ]
    }
   ],
   "source": [
    "issubclass(FormArgument, Terminal)\n",
    "print(iter_expressions(F))"
   ]
  },
  {
   "cell_type": "code",
   "execution_count": 89,
   "metadata": {},
   "outputs": [
    {
     "name": "stdout",
     "output_type": "stream",
     "text": [
      "5 4\n"
     ]
    }
   ],
   "source": [
    "if 0:\n",
    "    # Optimization\n",
    "    terminals = set(o for e in iter_expressions(F)\n",
    "                   for o in traverse_unique_terminals(e)\n",
    "                    if isinstance(o, FormArgument))\n",
    "else:\n",
    "    terminals = set(o for e in iter_expressions(F)\n",
    "                    for o in unique_pre_traversal(e)\n",
    "                    if isinstance(o, FormArgument))\n",
    "coefficients = [f for f in terminals if isinstance(f, Coefficient)]\n",
    "fcounts = dict((f, f.count()) for f in coefficients)\n",
    "print(len(fcounts), len(set(fcounts.values())))"
   ]
  },
  {
   "cell_type": "code",
   "execution_count": 80,
   "metadata": {},
   "outputs": [
    {
     "name": "stdout",
     "output_type": "stream",
     "text": [
      "{Argument(FunctionSpace(Mesh(VectorElement(FiniteElement('Lagrange', triangle, 1), dim=2), 5), MixedElement(FiniteElement('Lagrange', triangle, 1), VectorElement(FiniteElement('Lagrange', triangle, 2), dim=2), FiniteElement('Lagrange', triangle, 1))), 0, None), Coefficient(FunctionSpace(Mesh(VectorElement(FiniteElement('Lagrange', triangle, 1), dim=2), 5), MixedElement(FiniteElement('Lagrange', triangle, 1), VectorElement(FiniteElement('Lagrange', triangle, 2), dim=2), FiniteElement('Lagrange', triangle, 1))), 10), Coefficient(FunctionSpace(None, FiniteElement('Real', None, 0)), 0), Coefficient(FunctionSpace(Mesh(VectorElement(FiniteElement('Lagrange', triangle, 1), dim=2), 5), MixedElement(FiniteElement('Lagrange', triangle, 1), VectorElement(FiniteElement('Lagrange', triangle, 2), dim=2), FiniteElement('Lagrange', triangle, 1))), 1), Coefficient(FunctionSpace(None, FiniteElement('Real', None, 0)), 21), Coefficient(FunctionSpace(None, FiniteElement('Real', None, 0)), 1)} 6\n",
      "\n",
      "[Argument(FunctionSpace(Mesh(VectorElement(FiniteElement('Lagrange', triangle, 1), dim=2), 5), MixedElement(FiniteElement('Lagrange', triangle, 1), VectorElement(FiniteElement('Lagrange', triangle, 2), dim=2), FiniteElement('Lagrange', triangle, 1))), 0, None)]\n",
      "[Coefficient(FunctionSpace(Mesh(VectorElement(FiniteElement('Lagrange', triangle, 1), dim=2), 5), MixedElement(FiniteElement('Lagrange', triangle, 1), VectorElement(FiniteElement('Lagrange', triangle, 2), dim=2), FiniteElement('Lagrange', triangle, 1))), 10), Coefficient(FunctionSpace(None, FiniteElement('Real', None, 0)), 0), Coefficient(FunctionSpace(Mesh(VectorElement(FiniteElement('Lagrange', triangle, 1), dim=2), 5), MixedElement(FiniteElement('Lagrange', triangle, 1), VectorElement(FiniteElement('Lagrange', triangle, 2), dim=2), FiniteElement('Lagrange', triangle, 1))), 1), Coefficient(FunctionSpace(None, FiniteElement('Real', None, 0)), 21), Coefficient(FunctionSpace(None, FiniteElement('Real', None, 0)), 1)]\n"
     ]
    }
   ],
   "source": [
    "terminals = extract_type(F, FormArgument)\n",
    "print(terminals, len(terminals))\n",
    "print()\n",
    "arguments = [f for f in terminals if isinstance(f, Argument)]\n",
    "coefficients = [f for f in terminals if isinstance(f, Coefficient)]\n",
    "print(arguments)\n",
    "print(coefficients)"
   ]
  },
  {
   "cell_type": "code",
   "execution_count": 81,
   "metadata": {},
   "outputs": [
    {
     "name": "stdout",
     "output_type": "stream",
     "text": [
      "5 4\n"
     ]
    }
   ],
   "source": [
    "fcounts = dict((f, f.count()) for f in coefficients)\n",
    "print(len(fcounts), len(set(fcounts.values())))"
   ]
  },
  {
   "cell_type": "code",
   "execution_count": 82,
   "metadata": {},
   "outputs": [
    {
     "data": {
      "text/plain": [
       "dict_values([10, 0, 1, 21, 1])"
      ]
     },
     "execution_count": 82,
     "metadata": {},
     "output_type": "execute_result"
    }
   ],
   "source": [
    "fcounts.values()"
   ]
  },
  {
   "cell_type": "markdown",
   "metadata": {},
   "source": [
    "|Note|\n",
    "|----|\n",
    "|`solver.solve` will modify the solution `w`, which means that `u`, `p` and `T` will also be modified.|"
   ]
  },
  {
   "cell_type": "markdown",
   "metadata": {},
   "source": [
    "# ROM with Pymor\n",
    "\n",
    "## Target parameters\n",
    " \n",
    "$L, Re, T_i, T_c, T_h, \\kappa$"
   ]
  },
  {
   "cell_type": "code",
   "execution_count": 32,
   "metadata": {},
   "outputs": [
    {
     "name": "stderr",
     "output_type": "stream",
     "text": [
      "/home/pde_reduced_basis/.local/lib/python3.6/site-packages/pymor/core/config.py:23: UserWarning: FEniCS bindings have been tested for version 2019.1.0 (installed: 2019.2.0.dev0).\n",
      "  warnings.warn(f'FEniCS bindings have been tested for version 2019.1.0 (installed: {df.__version__}).')\n"
     ]
    }
   ],
   "source": [
    "# ### pyMOR wrapping\n",
    "from pymor.bindings.fenics import FenicsVectorSpace, FenicsOperator, FenicsVisualizer\n",
    "from pymor.models.basic import StationaryModel\n",
    "from pymor.operators.constructions import VectorOperator"
   ]
  },
  {
   "cell_type": "code",
   "execution_count": 33,
   "metadata": {},
   "outputs": [],
   "source": [
    "space = FenicsVectorSpace(W)"
   ]
  },
  {
   "cell_type": "code",
   "execution_count": 34,
   "metadata": {},
   "outputs": [],
   "source": [
    "from pymor.tools.formatsrc import print_source"
   ]
  },
  {
   "cell_type": "code",
   "execution_count": 35,
   "metadata": {},
   "outputs": [],
   "source": [
    "from pymor.basic import *"
   ]
  },
  {
   "cell_type": "code",
   "execution_count": 36,
   "metadata": {},
   "outputs": [],
   "source": [
    "op = FenicsOperator(F_stationary, space, space, w, boundary_conditions,\n",
    "                    parameter_setter=lambda mu: Re.assign(mu['Re'].item()),\n",
    "                    parameters={'Re':1},\n",
    "                    #parameters={'T_i': 1,'T_c': 1,'T_h':1,'kappa':1,'Re':1},\n",
    "                    solver_options={'inverse': \n",
    "                                    {'type': 'newton', 'rtol': 1e-6, 'maxiter':500,\n",
    "                                    'error_measure': 'residual'}})"
   ]
  },
  {
   "cell_type": "code",
   "execution_count": 37,
   "metadata": {},
   "outputs": [],
   "source": [
    "rhs = VectorOperator(op.range.zeros())"
   ]
  },
  {
   "cell_type": "code",
   "execution_count": 38,
   "metadata": {},
   "outputs": [
    {
     "name": "stderr",
     "output_type": "stream",
     "text": [
      "/usr/local/lib/python3.6/dist-packages/matplotlib/quiver.py:665: RuntimeWarning: divide by zero encountered in double_scalars\n",
      "  length = a * (widthu_per_lenu / (self.scale * self.width))\n",
      "/usr/local/lib/python3.6/dist-packages/matplotlib/quiver.py:665: RuntimeWarning: invalid value encountered in multiply\n",
      "  length = a * (widthu_per_lenu / (self.scale * self.width))\n"
     ]
    },
    {
     "data": {
      "image/png": "[encoded data removed]",
      "text/plain": [
       "<Figure size 432x288 with 2 Axes>"
      ]
     },
     "metadata": {
      "needs_background": "light"
     },
     "output_type": "display_data"
    },
    {
     "data": {
      "image/png": "[encoded data removed]",
      "text/plain": [
       "<Figure size 432x288 with 2 Axes>"
      ]
     },
     "metadata": {
      "needs_background": "light"
     },
     "output_type": "display_data"
    },
    {
     "data": {
      "image/png": "[encoded data removed]",
      "text/plain": [
       "<Figure size 432x288 with 2 Axes>"
      ]
     },
     "metadata": {
      "needs_background": "light"
     },
     "output_type": "display_data"
    }
   ],
   "source": [
    "# set initial solutions\n",
    "w_n = initial_condition()\n",
    "fom_init = VectorOperator(op.source.make_array([ w_n.leaf_node().vector()[:] ]))\n",
    "\n",
    "plot_w(w_n)"
   ]
  },
  {
   "cell_type": "code",
   "execution_count": 39,
   "metadata": {},
   "outputs": [],
   "source": [
    "from pymor.algorithms.timestepping import ImplicitEulerTimeStepper"
   ]
  },
  {
   "cell_type": "code",
   "execution_count": 40,
   "metadata": {},
   "outputs": [],
   "source": [
    "nt = 3\n",
    "ie_stepper = ImplicitEulerTimeStepper(nt)"
   ]
  },
  {
   "cell_type": "code",
   "execution_count": 41,
   "metadata": {},
   "outputs": [],
   "source": [
    "# define the instationary model   \n",
    "fom = InstationaryModel(dt*nt, fom_init, op, rhs, time_stepper=ie_stepper,\n",
    "                        visualizer=FenicsVisualizer(space) )"
   ]
  },
  {
   "cell_type": "markdown",
   "metadata": {},
   "source": [
    "(n,1) -> (n,)"
   ]
  },
  {
   "cell_type": "code",
   "execution_count": 42,
   "metadata": {},
   "outputs": [],
   "source": [
    "def solve_fom_pymor(Re=1., rtol=1e-6, return_residuals=True):\n",
    "    mu = fom.parameters.parse(Re)\n",
    "    UU = fom.solve(mu)\n",
    "    \n",
    "    return UU"
   ]
  },
  {
   "cell_type": "code",
   "execution_count": 43,
   "metadata": {},
   "outputs": [
    {
     "name": "stderr",
     "output_type": "stream",
     "text": [
      "00:04 InstationaryModel: Solving InstationaryModel for {Re: [1.0]} ...\n"
     ]
    },
    {
     "ename": "AssertionError",
     "evalue": "",
     "output_type": "error",
     "traceback": [
      "\u001b[0;31m---------------------------------------------------------------------------\u001b[0m",
      "\u001b[0;31mAssertionError\u001b[0m                            Traceback (most recent call last)",
      "\u001b[0;32m<ipython-input-43-611abdb2951b>\u001b[0m in \u001b[0;36m<module>\u001b[0;34m\u001b[0m\n\u001b[0;32m----> 1\u001b[0;31m \u001b[0mU_py\u001b[0m \u001b[0;34m=\u001b[0m \u001b[0msolve_fom_pymor\u001b[0m\u001b[0;34m(\u001b[0m\u001b[0;34m)\u001b[0m\u001b[0;34m\u001b[0m\u001b[0;34m\u001b[0m\u001b[0m\n\u001b[0m",
      "\u001b[0;32m<ipython-input-42-142b4193be13>\u001b[0m in \u001b[0;36msolve_fom_pymor\u001b[0;34m(Re, rtol, return_residuals)\u001b[0m\n\u001b[1;32m      1\u001b[0m \u001b[0;32mdef\u001b[0m \u001b[0msolve_fom_pymor\u001b[0m\u001b[0;34m(\u001b[0m\u001b[0mRe\u001b[0m\u001b[0;34m=\u001b[0m\u001b[0;36m1.\u001b[0m\u001b[0;34m,\u001b[0m \u001b[0mrtol\u001b[0m\u001b[0;34m=\u001b[0m\u001b[0;36m1e-6\u001b[0m\u001b[0;34m,\u001b[0m \u001b[0mreturn_residuals\u001b[0m\u001b[0;34m=\u001b[0m\u001b[0;32mTrue\u001b[0m\u001b[0;34m)\u001b[0m\u001b[0;34m:\u001b[0m\u001b[0;34m\u001b[0m\u001b[0;34m\u001b[0m\u001b[0m\n\u001b[1;32m      2\u001b[0m     \u001b[0mmu\u001b[0m \u001b[0;34m=\u001b[0m \u001b[0mfom\u001b[0m\u001b[0;34m.\u001b[0m\u001b[0mparameters\u001b[0m\u001b[0;34m.\u001b[0m\u001b[0mparse\u001b[0m\u001b[0;34m(\u001b[0m\u001b[0mRe\u001b[0m\u001b[0;34m)\u001b[0m\u001b[0;34m\u001b[0m\u001b[0;34m\u001b[0m\u001b[0m\n\u001b[0;32m----> 3\u001b[0;31m     \u001b[0mUU\u001b[0m \u001b[0;34m=\u001b[0m \u001b[0mfom\u001b[0m\u001b[0;34m.\u001b[0m\u001b[0msolve\u001b[0m\u001b[0;34m(\u001b[0m\u001b[0mmu\u001b[0m\u001b[0;34m)\u001b[0m\u001b[0;34m\u001b[0m\u001b[0;34m\u001b[0m\u001b[0m\n\u001b[0m\u001b[1;32m      4\u001b[0m \u001b[0;34m\u001b[0m\u001b[0m\n\u001b[1;32m      5\u001b[0m     \u001b[0;32mreturn\u001b[0m \u001b[0mUU\u001b[0m\u001b[0;34m\u001b[0m\u001b[0;34m\u001b[0m\u001b[0m\n",
      "\u001b[0;32m~/.local/lib/python3.6/site-packages/pymor/models/interface.py\u001b[0m in \u001b[0;36msolve\u001b[0;34m(self, mu, return_error_estimate, **kwargs)\u001b[0m\n\u001b[1;32m    422\u001b[0m             \u001b[0msolution_error_estimate\u001b[0m\u001b[0;34m=\u001b[0m\u001b[0mreturn_error_estimate\u001b[0m\u001b[0;34m,\u001b[0m\u001b[0;34m\u001b[0m\u001b[0;34m\u001b[0m\u001b[0m\n\u001b[1;32m    423\u001b[0m             \u001b[0mmu\u001b[0m\u001b[0;34m=\u001b[0m\u001b[0mmu\u001b[0m\u001b[0;34m,\u001b[0m\u001b[0;34m\u001b[0m\u001b[0;34m\u001b[0m\u001b[0m\n\u001b[0;32m--> 424\u001b[0;31m             \u001b[0;34m**\u001b[0m\u001b[0mkwargs\u001b[0m\u001b[0;34m\u001b[0m\u001b[0;34m\u001b[0m\u001b[0m\n\u001b[0m\u001b[1;32m    425\u001b[0m         )\n\u001b[1;32m    426\u001b[0m         \u001b[0;32mif\u001b[0m \u001b[0mreturn_error_estimate\u001b[0m\u001b[0;34m:\u001b[0m\u001b[0;34m\u001b[0m\u001b[0;34m\u001b[0m\u001b[0m\n",
      "\u001b[0;32m~/.local/lib/python3.6/site-packages/pymor/models/interface.py\u001b[0m in \u001b[0;36mcompute\u001b[0;34m(self, solution, output, solution_d_mu, output_d_mu, solution_error_estimate, output_error_estimate, output_d_mu_return_array, mu, **kwargs)\u001b[0m\n\u001b[1;32m    333\u001b[0m                 output_error_estimate or solution_d_mu or output_d_mu) \\\n\u001b[1;32m    334\u001b[0m            \u001b[0;32mand\u001b[0m \u001b[0;34m'solution'\u001b[0m \u001b[0;32mnot\u001b[0m \u001b[0;32min\u001b[0m \u001b[0mdata\u001b[0m\u001b[0;34m:\u001b[0m\u001b[0;34m\u001b[0m\u001b[0;34m\u001b[0m\u001b[0m\n\u001b[0;32m--> 335\u001b[0;31m             \u001b[0mretval\u001b[0m \u001b[0;34m=\u001b[0m \u001b[0mself\u001b[0m\u001b[0;34m.\u001b[0m\u001b[0mcached_method_call\u001b[0m\u001b[0;34m(\u001b[0m\u001b[0mself\u001b[0m\u001b[0;34m.\u001b[0m\u001b[0m_compute_solution\u001b[0m\u001b[0;34m,\u001b[0m \u001b[0mmu\u001b[0m\u001b[0;34m=\u001b[0m\u001b[0mmu\u001b[0m\u001b[0;34m,\u001b[0m \u001b[0;34m**\u001b[0m\u001b[0mkwargs\u001b[0m\u001b[0;34m)\u001b[0m\u001b[0;34m\u001b[0m\u001b[0;34m\u001b[0m\u001b[0m\n\u001b[0m\u001b[1;32m    336\u001b[0m             \u001b[0;32mif\u001b[0m \u001b[0misinstance\u001b[0m\u001b[0;34m(\u001b[0m\u001b[0mretval\u001b[0m\u001b[0;34m,\u001b[0m \u001b[0mdict\u001b[0m\u001b[0;34m)\u001b[0m\u001b[0;34m:\u001b[0m\u001b[0;34m\u001b[0m\u001b[0;34m\u001b[0m\u001b[0m\n\u001b[1;32m    337\u001b[0m                 \u001b[0;32massert\u001b[0m \u001b[0;34m'solution'\u001b[0m \u001b[0;32min\u001b[0m \u001b[0mretval\u001b[0m\u001b[0;34m\u001b[0m\u001b[0;34m\u001b[0m\u001b[0m\n",
      "\u001b[0;32m~/.local/lib/python3.6/site-packages/pymor/core/cache.py\u001b[0m in \u001b[0;36mcached_method_call\u001b[0;34m(self, method, *args, **kwargs)\u001b[0m\n\u001b[1;32m    313\u001b[0m \u001b[0;34m\u001b[0m\u001b[0m\n\u001b[1;32m    314\u001b[0m         \u001b[0;32mif\u001b[0m \u001b[0m_caching_disabled\u001b[0m \u001b[0;32mor\u001b[0m \u001b[0mself\u001b[0m\u001b[0;34m.\u001b[0m\u001b[0mcache_region\u001b[0m \u001b[0;32mis\u001b[0m \u001b[0;32mNone\u001b[0m\u001b[0;34m:\u001b[0m\u001b[0;34m\u001b[0m\u001b[0;34m\u001b[0m\u001b[0m\n\u001b[0;32m--> 315\u001b[0;31m             \u001b[0;32mreturn\u001b[0m \u001b[0mmethod\u001b[0m\u001b[0;34m(\u001b[0m\u001b[0;34m*\u001b[0m\u001b[0margs\u001b[0m\u001b[0;34m,\u001b[0m \u001b[0;34m**\u001b[0m\u001b[0mkwargs\u001b[0m\u001b[0;34m)\u001b[0m\u001b[0;34m\u001b[0m\u001b[0;34m\u001b[0m\u001b[0m\n\u001b[0m\u001b[1;32m    316\u001b[0m \u001b[0;34m\u001b[0m\u001b[0m\n\u001b[1;32m    317\u001b[0m         \u001b[0mparams\u001b[0m \u001b[0;34m=\u001b[0m \u001b[0minspect\u001b[0m\u001b[0;34m.\u001b[0m\u001b[0msignature\u001b[0m\u001b[0;34m(\u001b[0m\u001b[0mmethod\u001b[0m\u001b[0;34m)\u001b[0m\u001b[0;34m.\u001b[0m\u001b[0mparameters\u001b[0m\u001b[0;34m\u001b[0m\u001b[0;34m\u001b[0m\u001b[0m\n",
      "\u001b[0;32m~/.local/lib/python3.6/site-packages/pymor/models/basic.py\u001b[0m in \u001b[0;36m_compute_solution\u001b[0;34m(self, mu, **kwargs)\u001b[0m\n\u001b[1;32m    255\u001b[0m                                     \u001b[0minitial_data\u001b[0m\u001b[0;34m=\u001b[0m\u001b[0mU0\u001b[0m\u001b[0;34m,\u001b[0m\u001b[0;34m\u001b[0m\u001b[0;34m\u001b[0m\u001b[0m\n\u001b[1;32m    256\u001b[0m                                     \u001b[0mmass\u001b[0m\u001b[0;34m=\u001b[0m\u001b[0;32mNone\u001b[0m \u001b[0;32mif\u001b[0m \u001b[0misinstance\u001b[0m\u001b[0;34m(\u001b[0m\u001b[0mself\u001b[0m\u001b[0;34m.\u001b[0m\u001b[0mmass\u001b[0m\u001b[0;34m,\u001b[0m \u001b[0mIdentityOperator\u001b[0m\u001b[0;34m)\u001b[0m \u001b[0;32melse\u001b[0m \u001b[0mself\u001b[0m\u001b[0;34m.\u001b[0m\u001b[0mmass\u001b[0m\u001b[0;34m,\u001b[0m\u001b[0;34m\u001b[0m\u001b[0;34m\u001b[0m\u001b[0m\n\u001b[0;32m--> 257\u001b[0;31m                                     initial_time=0, end_time=self.T, mu=mu, num_values=self.num_values)\n\u001b[0m\u001b[1;32m    258\u001b[0m         \u001b[0;32mreturn\u001b[0m \u001b[0mU\u001b[0m\u001b[0;34m\u001b[0m\u001b[0;34m\u001b[0m\u001b[0m\n\u001b[1;32m    259\u001b[0m \u001b[0;34m\u001b[0m\u001b[0m\n",
      "\u001b[0;32m~/.local/lib/python3.6/site-packages/pymor/algorithms/timestepping.py\u001b[0m in \u001b[0;36msolve\u001b[0;34m(self, initial_time, end_time, initial_data, operator, rhs, mass, mu, num_values)\u001b[0m\n\u001b[1;32m     94\u001b[0m     \u001b[0;32mdef\u001b[0m \u001b[0msolve\u001b[0m\u001b[0;34m(\u001b[0m\u001b[0mself\u001b[0m\u001b[0;34m,\u001b[0m \u001b[0minitial_time\u001b[0m\u001b[0;34m,\u001b[0m \u001b[0mend_time\u001b[0m\u001b[0;34m,\u001b[0m \u001b[0minitial_data\u001b[0m\u001b[0;34m,\u001b[0m \u001b[0moperator\u001b[0m\u001b[0;34m,\u001b[0m \u001b[0mrhs\u001b[0m\u001b[0;34m=\u001b[0m\u001b[0;32mNone\u001b[0m\u001b[0;34m,\u001b[0m \u001b[0mmass\u001b[0m\u001b[0;34m=\u001b[0m\u001b[0;32mNone\u001b[0m\u001b[0;34m,\u001b[0m \u001b[0mmu\u001b[0m\u001b[0;34m=\u001b[0m\u001b[0;32mNone\u001b[0m\u001b[0;34m,\u001b[0m \u001b[0mnum_values\u001b[0m\u001b[0;34m=\u001b[0m\u001b[0;32mNone\u001b[0m\u001b[0;34m)\u001b[0m\u001b[0;34m:\u001b[0m\u001b[0;34m\u001b[0m\u001b[0;34m\u001b[0m\u001b[0m\n\u001b[1;32m     95\u001b[0m         return implicit_euler(operator, rhs, mass, initial_data, initial_time, end_time, self.nt, mu, num_values,\n\u001b[0;32m---> 96\u001b[0;31m                               solver_options=self.solver_options)\n\u001b[0m\u001b[1;32m     97\u001b[0m \u001b[0;34m\u001b[0m\u001b[0m\n\u001b[1;32m     98\u001b[0m \u001b[0;34m\u001b[0m\u001b[0m\n",
      "\u001b[0;32m~/.local/lib/python3.6/site-packages/pymor/algorithms/timestepping.py\u001b[0m in \u001b[0;36mimplicit_euler\u001b[0;34m(A, F, M, U0, t0, t1, nt, mu, num_values, solver_options)\u001b[0m\n\u001b[1;32m    135\u001b[0m         \u001b[0mF_time_dep\u001b[0m \u001b[0;34m=\u001b[0m \u001b[0mF\u001b[0m\u001b[0;34m.\u001b[0m\u001b[0mparametric\u001b[0m \u001b[0;32mand\u001b[0m \u001b[0;34m't'\u001b[0m \u001b[0;32min\u001b[0m \u001b[0mF\u001b[0m\u001b[0;34m.\u001b[0m\u001b[0mparameters\u001b[0m\u001b[0;34m\u001b[0m\u001b[0;34m\u001b[0m\u001b[0m\n\u001b[1;32m    136\u001b[0m         \u001b[0;32mif\u001b[0m \u001b[0;32mnot\u001b[0m \u001b[0mF_time_dep\u001b[0m\u001b[0;34m:\u001b[0m\u001b[0;34m\u001b[0m\u001b[0;34m\u001b[0m\u001b[0m\n\u001b[0;32m--> 137\u001b[0;31m             \u001b[0mdt_F\u001b[0m \u001b[0;34m=\u001b[0m \u001b[0mF\u001b[0m\u001b[0;34m.\u001b[0m\u001b[0mas_vector\u001b[0m\u001b[0;34m(\u001b[0m\u001b[0mmu\u001b[0m\u001b[0;34m)\u001b[0m \u001b[0;34m*\u001b[0m \u001b[0mdt\u001b[0m\u001b[0;34m\u001b[0m\u001b[0;34m\u001b[0m\u001b[0m\n\u001b[0m\u001b[1;32m    138\u001b[0m     \u001b[0;32melse\u001b[0m\u001b[0;34m:\u001b[0m\u001b[0;34m\u001b[0m\u001b[0;34m\u001b[0m\u001b[0m\n\u001b[1;32m    139\u001b[0m         \u001b[0;32massert\u001b[0m \u001b[0mlen\u001b[0m\u001b[0;34m(\u001b[0m\u001b[0mF\u001b[0m\u001b[0;34m)\u001b[0m \u001b[0;34m==\u001b[0m \u001b[0;36m1\u001b[0m\u001b[0;34m\u001b[0m\u001b[0;34m\u001b[0m\u001b[0m\n",
      "\u001b[0;32m~/.local/lib/python3.6/site-packages/pymor/vectorarrays/interface.py\u001b[0m in \u001b[0;36m__mul__\u001b[0;34m(self, other)\u001b[0m\n\u001b[1;32m    612\u001b[0m     \u001b[0;32mdef\u001b[0m \u001b[0m__mul__\u001b[0m\u001b[0;34m(\u001b[0m\u001b[0mself\u001b[0m\u001b[0;34m,\u001b[0m \u001b[0mother\u001b[0m\u001b[0;34m)\u001b[0m\u001b[0;34m:\u001b[0m\u001b[0;34m\u001b[0m\u001b[0;34m\u001b[0m\u001b[0m\n\u001b[1;32m    613\u001b[0m         \u001b[0mresult\u001b[0m \u001b[0;34m=\u001b[0m \u001b[0mself\u001b[0m\u001b[0;34m.\u001b[0m\u001b[0mcopy\u001b[0m\u001b[0;34m(\u001b[0m\u001b[0;34m)\u001b[0m\u001b[0;34m\u001b[0m\u001b[0;34m\u001b[0m\u001b[0m\n\u001b[0;32m--> 614\u001b[0;31m         \u001b[0mresult\u001b[0m\u001b[0;34m.\u001b[0m\u001b[0mscal\u001b[0m\u001b[0;34m(\u001b[0m\u001b[0mother\u001b[0m\u001b[0;34m)\u001b[0m\u001b[0;34m\u001b[0m\u001b[0;34m\u001b[0m\u001b[0m\n\u001b[0m\u001b[1;32m    615\u001b[0m         \u001b[0;32mreturn\u001b[0m \u001b[0mresult\u001b[0m\u001b[0;34m\u001b[0m\u001b[0;34m\u001b[0m\u001b[0m\n\u001b[1;32m    616\u001b[0m \u001b[0;34m\u001b[0m\u001b[0m\n",
      "\u001b[0;32m~/.local/lib/python3.6/site-packages/pymor/vectorarrays/list.py\u001b[0m in \u001b[0;36mscal\u001b[0;34m(self, alpha)\u001b[0m\n\u001b[1;32m    412\u001b[0m     \u001b[0;32mdef\u001b[0m \u001b[0mscal\u001b[0m\u001b[0;34m(\u001b[0m\u001b[0mself\u001b[0m\u001b[0;34m,\u001b[0m \u001b[0malpha\u001b[0m\u001b[0;34m)\u001b[0m\u001b[0;34m:\u001b[0m\u001b[0;34m\u001b[0m\u001b[0;34m\u001b[0m\u001b[0m\n\u001b[1;32m    413\u001b[0m         \u001b[0;32massert\u001b[0m \u001b[0misinstance\u001b[0m\u001b[0;34m(\u001b[0m\u001b[0malpha\u001b[0m\u001b[0;34m,\u001b[0m \u001b[0mNumber\u001b[0m\u001b[0;34m)\u001b[0m\u001b[0;31m \u001b[0m\u001b[0;31m\\\u001b[0m\u001b[0;34m\u001b[0m\u001b[0;34m\u001b[0m\u001b[0m\n\u001b[0;32m--> 414\u001b[0;31m             \u001b[0;32mor\u001b[0m \u001b[0misinstance\u001b[0m\u001b[0;34m(\u001b[0m\u001b[0malpha\u001b[0m\u001b[0;34m,\u001b[0m \u001b[0mnp\u001b[0m\u001b[0;34m.\u001b[0m\u001b[0mndarray\u001b[0m\u001b[0;34m)\u001b[0m \u001b[0;32mand\u001b[0m \u001b[0malpha\u001b[0m\u001b[0;34m.\u001b[0m\u001b[0mshape\u001b[0m \u001b[0;34m==\u001b[0m \u001b[0;34m(\u001b[0m\u001b[0mlen\u001b[0m\u001b[0;34m(\u001b[0m\u001b[0mself\u001b[0m\u001b[0;34m)\u001b[0m\u001b[0;34m,\u001b[0m\u001b[0;34m)\u001b[0m\u001b[0;34m\u001b[0m\u001b[0;34m\u001b[0m\u001b[0m\n\u001b[0m\u001b[1;32m    415\u001b[0m \u001b[0;34m\u001b[0m\u001b[0m\n\u001b[1;32m    416\u001b[0m         \u001b[0;32mif\u001b[0m \u001b[0mtype\u001b[0m\u001b[0;34m(\u001b[0m\u001b[0malpha\u001b[0m\u001b[0;34m)\u001b[0m \u001b[0;32mis\u001b[0m \u001b[0mnp\u001b[0m\u001b[0;34m.\u001b[0m\u001b[0mndarray\u001b[0m\u001b[0;34m:\u001b[0m\u001b[0;34m\u001b[0m\u001b[0;34m\u001b[0m\u001b[0m\n",
      "\u001b[0;31mAssertionError\u001b[0m: "
     ]
    }
   ],
   "source": [
    "U_py = solve_fom_pymor()"
   ]
  },
  {
   "cell_type": "code",
   "execution_count": null,
   "metadata": {},
   "outputs": [],
   "source": [
    "# fom solution\n",
    "plot_w(U_py)"
   ]
  },
  {
   "cell_type": "code",
   "execution_count": null,
   "metadata": {},
   "outputs": [],
   "source": []
  }
 ],
 "metadata": {
  "kernelspec": {
   "display_name": "fenics_38",
   "language": "python",
   "name": "fenics_38"
  },
  "language_info": {
   "codemirror_mode": {
    "name": "ipython",
    "version": 3
   },
   "file_extension": ".py",
   "mimetype": "text/x-python",
   "name": "python",
   "nbconvert_exporter": "python",
   "pygments_lexer": "ipython3",
   "version": "3.8.12"
  }
 },
 "nbformat": 4,
 "nbformat_minor": 2
}
